{
  "nbformat": 4,
  "nbformat_minor": 0,
  "metadata": {
    "colab": {
      "provenance": [],
      "include_colab_link": true
    },
    "kernelspec": {
      "name": "python3",
      "display_name": "Python 3"
    },
    "language_info": {
      "name": "python"
    }
  },
  "cells": [
    {
      "cell_type": "markdown",
      "metadata": {
        "id": "view-in-github",
        "colab_type": "text"
      },
      "source": [
        "<a href=\"https://colab.research.google.com/github/LionelLeston/borealbirds-spatialdataworkshop/blob/main/Starting_R_in_Google_Colab.ipynb\" target=\"_parent\"><img src=\"https://colab.research.google.com/assets/colab-badge.svg\" alt=\"Open In Colab\"/></a>"
      ]
    },
    {
      "cell_type": "markdown",
      "source": [
        "#Starting R in Google Colab\n",
        "\n",
        "##Lionel Leston\n",
        "\n",
        "###October 2, 2023\n",
        "\n",
        "**Learning outcomes from this lesson:**\n",
        "\n",
        "The student will be able to:\n",
        "\n",
        "* ***Create*** a new Google Colab worksheet that runs R (or Python) commands by default.\n",
        "\n",
        "* ***Upload*** data files into Google Colab from his/her computer and/or Google Drive, then ***read*** files into a Colab notebook for R to analyze.\n",
        "\n",
        "* ***Save*** data files in Google Colab prior to downloading outside of Colab.\n",
        "\n",
        "* ***Examine file contents*** (*data types*, *distributions*) in Colab, using functions in base R and ***tidyverse*** packages.\n",
        "\n",
        "* ***Identify*** different parts of R code in Colab: functions, constants, data frames, variables, objects.\n",
        "\n",
        "* ***Subset data*** (*filtering*, *slicing*) in Colab, using functions in base R and ***tidyverse*** packages.\n",
        "\n",
        "* ***Manipulate data and create new variables*** in Colab, using functions in base R and ***tidyverse*** packages.\n",
        "\n",
        "* ***Explore/visualize data prior to and after modeling*** in Colab, using functions in base R and ***tidyverse*** packages.\n",
        "\n",
        "* ***Explain*** how sharing code and writing reports in Google Colab notebooks enhances reproducibility of research.\n",
        "\n",
        "\n",
        "##Learning Outcome: Create a new Google Colab worksheet that runs R (or Python) commands by default.\n",
        "\n",
        "To start a new Colab workbook, go to *File* in the top left, then *New notebook* in *File*'s drop-down menu. Give your new workbook a new name. Since Colab notebooks are Jupyter notebooks hosted by Google Colab, they will have a **.ipynb** extension.\n",
        "\n",
        "Google Colab runs Python code by default within cells. To start an R kernel, run the following code cell. This approach allows you to run R and Python in the same notebook.  You can also go to *Runtime >>> Change Runtime Type* and under RunTime type change the default kernel to R. For this script, we will load the extension and specify when we are running R in cells, because we will use some Python later on in the script (just a little!). An overview of Google Colab's abilities can be found [here](https://www.datacamp.com/tutorial/tutorial-google-colab-for-data-scientists#) (note the statement about R is out of date!)"
      ],
      "metadata": {
        "id": "yQuVVbYIVGcR"
      }
    },
    {
      "cell_type": "code",
      "execution_count": null,
      "metadata": {
        "id": "1v7N05ugS8wD"
      },
      "outputs": [],
      "source": [
        "%load_ext rpy2.ipython"
      ]
    },
    {
      "cell_type": "markdown",
      "source": [
        "Then, use either %R or %%R to execute R cell magic. Use %%R at the start of a cell if you want all subsequent lines in a cell to be executed in R. Use %R if you just want to run a single line of code in R."
      ],
      "metadata": {
        "id": "90-2sEUzVOAL"
      }
    },
    {
      "cell_type": "code",
      "source": [
        "%%R\n",
        "x <- seq(0, 2*pi, length.out=50)\n",
        "x"
      ],
      "metadata": {
        "colab": {
          "base_uri": "https://localhost:8080/"
        },
        "id": "RWilHjcjVydM",
        "outputId": "561b24f4-797b-4d04-b969-0d048ff94919"
      },
      "execution_count": null,
      "outputs": [
        {
          "output_type": "stream",
          "name": "stdout",
          "text": [
            " [1] 0.0000000 0.1282283 0.2564565 0.3846848 0.5129131 0.6411414 0.7693696\n",
            " [8] 0.8975979 1.0258262 1.1540544 1.2822827 1.4105110 1.5387393 1.6669675\n",
            "[15] 1.7951958 1.9234241 2.0516523 2.1798806 2.3081089 2.4363372 2.5645654\n",
            "[22] 2.6927937 2.8210220 2.9492502 3.0774785 3.2057068 3.3339351 3.4621633\n",
            "[29] 3.5903916 3.7186199 3.8468481 3.9750764 4.1033047 4.2315330 4.3597612\n",
            "[36] 4.4879895 4.6162178 4.7444460 4.8726743 5.0009026 5.1291309 5.2573591\n",
            "[43] 5.3855874 5.5138157 5.6420439 5.7702722 5.8985005 6.0267288 6.1549570\n",
            "[50] 6.2831853\n"
          ]
        }
      ]
    },
    {
      "cell_type": "markdown",
      "source": [
        "The lines of code we ran returned a variable x, and display it as cell output. The code below is how we could use %R to copy R output into an object in Python."
      ],
      "metadata": {
        "id": "cP-DicvWWKrP"
      }
    },
    {
      "cell_type": "code",
      "source": [
        "x = %R x"
      ],
      "metadata": {
        "id": "Nf5tPpFiWJ1C"
      },
      "execution_count": null,
      "outputs": []
    },
    {
      "cell_type": "markdown",
      "source": [
        "Now we can use object \"x\" either in a Python analysis (the default) or in R when we use either %%R or %R.\n",
        "\n",
        "You could also go to *Runtime >>> Change Runtime Type* and under RunTime type change the default kernel to R. Then you wouldn't need to begin each code cell with %%R or %R to run R in that code cell. But you would only want to do this *IF* you were not going to use any Python code in a Colab notebook at all, after running code cells in R. If you change a notebook's kernel back to Python after running an R kernel in a notebook, the Python code may not run successfully. For example, if you want to connect Google Drive to your Colab notebook, then read datasets from or export results to Google Drive, or compress a folder full of files to download it using code rather than manually download individual files, you need to run your Colab notebook using Python by default. More on that later!"
      ],
      "metadata": {
        "id": "C0lZb_syWykt"
      }
    },
    {
      "cell_type": "code",
      "source": [
        "%%R\n",
        "#install.packages(\"ggplot2\")\n",
        "#Uncomment this when you open a session, and install a package in Google Colab for the first time, then comment it out and run the cell\n",
        "#again to suppress warning texts.\n",
        "library(ggplot2)\n",
        "p <- ggplot(mtcars, aes(wt, mpg))\n",
        "#plot data from a built-in data set that comes with base R\n",
        "p + geom_point(aes(size = qsec, colour = factor(cyl)))\n"
      ],
      "metadata": {
        "colab": {
          "base_uri": "https://localhost:8080/",
          "height": 497
        },
        "id": "GT_nGSckWxtO",
        "outputId": "a9304a50-8d6b-48e4-ad9f-9d18c37fd9ad"
      },
      "execution_count": null,
      "outputs": [
        {
          "output_type": "display_data",
          "data": {
            "image/png": "[encoded data removed]"
          },
          "metadata": {}
        }
      ]
    },
    {
      "cell_type": "markdown",
      "source": [
        "The above code chunk shows you an example of a scatter plot in R, but the plot is created with a package called ***ggplot2***, which is not included in base R when you download it on your laptop. Similarly in Google Colab, when you call R for the first time within a Colab session, you are only calling in base R at that time. You still need to install then call up any R packages that you would normally install and call up in R or RStudio on your laptop.\n",
        "\n",
        "***install.packages()*** is a command used to install R packages that extend what base R can do. Once a package is installed (it only needs to be done once on your laptop, unless you're updating a package), the ***library()*** command is used to call that package into R to make use of that package's functions.\n",
        "***ggplot2*** is a R package containing functions that extend the kinds of plots that base R can do\n",
        "***mtcars*** is a data frame and an input to a function called ***ggplot()***\n",
        "***wt*** and ***mpg*** are variables stored in the data frame \"mtcars\". They are inputs to ***ggplot()***.\n",
        "***ggplot()*** is a function for creating nice-looking plots.\n",
        "***p*** is an object (the nice-looking plot) that is produced by the ***ggplot()*** function stored in R.\n",
        "***geom_point()*** is another function in the ***ggplot2*** package that is used to customize plot ***p***.\n",
        "***qsec*** and ***cyl*** are variables stored in the data frame \"mtcars\". They are inputs to ***geom_point()***.\n",
        "\n",
        "Every green line in the code cell that begins with a hashtag is a comment. Comments are not code so R doesn't run anything beginning with a hashtag. Comments are used to document R scripts so that other people know what each line or group of lines of code does.\n",
        "\n",
        "I encourage you to add your own comments in your own words to any lines of code to help reinforce what each line of code does.\n",
        "\n",
        "To learn more about how to use specific packages and functions, you can use a question mark followed by the name of a package or function, at least in R or RStudio.\n",
        "\n",
        "#Learning Outcome: Upload data files into Google Colab computer and/or Google Drive, then read files into Colab.\n",
        "\n",
        "One way of reading data into R with Google Colab is to upload individual files manually using the drop-down menu in Colab. Download the Google Colab notebook data sets to which you have been given access, somewhere on your laptop. Then look for the \"***Swainsons-Thrush-song-rates.csv***\" file.\n",
        "\n",
        "Click on the “Files” tab in the left-hand panel, then navigate to the **content** subfolder.\n",
        "Click on the “Upload” button.\n",
        "Select the file you want to upload and store within the **content** folder.\n",
        "Then run the following code cell below. Note that the file path must include the subfolder where you have uploaded your data."
      ],
      "metadata": {
        "id": "INaI9KYuZr-J"
      }
    },
    {
      "cell_type": "code",
      "source": [
        "%%R\n",
        "swth <- read.csv(\"/content/Swainsons-Thrush-song-rates.csv\")"
      ],
      "metadata": {
        "id": "iCJyuSGqdNyc"
      },
      "execution_count": null,
      "outputs": []
    },
    {
      "cell_type": "markdown",
      "source": [
        "The data from the CSV file is read into a type of R object called a **data frame**, the R equivalent to a single spreadsheet. In a data frame, each row corresponds to a separate observation and each column corresponds to a separate variable. Observations with missing values for a particular variable usually have a value of ***NA*** (i.e., not available), but not always.\n",
        "\n",
        "The data in the data frame and CSV file come from 1-minute recordings by ***autonomous recording units*** (***ARUs***) at boreal forest sites in northern and southern BC/Alberta, taken every 15 minutes across a 24-hour period on multiple days per site. When they were detected by observers listening to recordings in the lab, Swainson's Thrush (*Catharus ustulatus*) songs were tagged and transcribed in each recording (*variable* ***individual_count***), along with the ***detection time*** (#seconds into the recording) and whether a particular song was thought to be sung by the first individual, or a second or third individual, etc. (*variable* ***individual_order***). These data can be used to test for the effects of time of year and time of day/night on Swainson's Thrush song activity, and whether these effects vary with latitude, since relative length of day and night at a given time of year varies with latitude.\n",
        "\n",
        "List all the variable names in the dataframe **swth**."
      ],
      "metadata": {
        "id": "Gf2CNdaJhI7c"
      }
    },
    {
      "cell_type": "code",
      "source": [
        "%%R\n",
        "names(swth)"
      ],
      "metadata": {
        "colab": {
          "base_uri": "https://localhost:8080/"
        },
        "id": "5-mEgMeNhfqK",
        "outputId": "e9871642-0806-4831-b942-d63772510f39"
      },
      "execution_count": null,
      "outputs": [
        {
          "output_type": "stream",
          "name": "stdout",
          "text": [
            " [1] \"organization\"                \"project_id\"                 \n",
            " [3] \"location\"                    \"location_id\"                \n",
            " [5] \"location_buffer_m\"           \"longitude\"                  \n",
            " [7] \"latitude\"                    \"equipment_make\"             \n",
            " [9] \"recording_id\"                \"recording_date_time\"        \n",
            "[11] \"task_id\"                     \"aru_task_status\"            \n",
            "[13] \"task_duration\"               \"task_method\"                \n",
            "[15] \"species_code\"                \"species_common_name\"        \n",
            "[17] \"species_scientific_name\"     \"individual_order\"           \n",
            "[19] \"tag_id\"                      \"individual_count\"           \n",
            "[21] \"vocalization\"                \"detection_time\"             \n",
            "[23] \"tag_duration\"                \"rms_peak_dbfs\"              \n",
            "[25] \"tag_is_verified\"             \"tag_rating\"                 \n",
            "[27] \"observer\"                    \"observer_user_id\"           \n",
            "[29] \"species_individual_comments\" \"task_comments\"              \n"
          ]
        }
      ]
    },
    {
      "cell_type": "markdown",
      "source": [
        "You could list the entire contents of the data frame ***swth*** in R or Google Colab simply by calling the name of the data frame by itself in a command, but this isn't recommended for large files. Instead, use the ***head*** command to print the first 6 observations for each variable. 6 is a default: you can add \"n = whatever number you input\" to print a larger number of observations."
      ],
      "metadata": {
        "id": "QYZOgwVjt_OT"
      }
    },
    {
      "cell_type": "code",
      "source": [
        "%%R\n",
        "head(swth)"
      ],
      "metadata": {
        "colab": {
          "base_uri": "https://localhost:8080/"
        },
        "id": "naDPfeEPuisR",
        "outputId": "4e4704e5-96ba-4354-ad46-312376a6f944"
      },
      "execution_count": null,
      "outputs": [
        {
          "output_type": "stream",
          "name": "stdout",
          "text": [
            "  organization project_id location location_id location_buffer_m longitude\n",
            "1           BU        657  BG-8-11       35076                NA -122.1562\n",
            "2           BU        657  BG-8-11       35076                NA -122.1562\n",
            "3           BU        657  BG-8-11       35076                NA -122.1562\n",
            "4           BU        657  BG-8-11       35076                NA -122.1562\n",
            "5           BU        657  BG-8-11       35076                NA -122.1562\n",
            "6           BU        657  BG-8-11       35076                NA -122.1562\n",
            "  latitude     equipment_make recording_id recording_date_time task_id\n",
            "1 59.41171 Wildlife Acoustics       204078 2016-06-10 15:00:00  173237\n",
            "2 59.41171 Wildlife Acoustics       203990 2016-06-10 22:23:00  173145\n",
            "3 59.41171 Wildlife Acoustics       203589 2016-06-10 23:23:00  172744\n",
            "4 59.41171 Wildlife Acoustics       204027 2016-06-11 02:00:00  173182\n",
            "5 59.41171 Wildlife Acoustics       203732 2016-06-11 02:23:00  172887\n",
            "6 59.41171 Wildlife Acoustics       203903 2016-06-11 03:23:00  173058\n",
            "  aru_task_status task_duration task_method species_code species_common_name\n",
            "1     Transcribed           60s        None         NONE                NONE\n",
            "2             New           60s        None         NONE                NONE\n",
            "3             New           60s        None         NONE                NONE\n",
            "4             New           60s        None         NONE                NONE\n",
            "5             New           60s        None         NONE                NONE\n",
            "6             New           60s        None         NONE                NONE\n",
            "  species_scientific_name individual_order  tag_id individual_count\n",
            "1                                        1 2267935                1\n",
            "2                                       NA      NA               NA\n",
            "3                                       NA      NA               NA\n",
            "4                                       NA      NA               NA\n",
            "5                                       NA      NA               NA\n",
            "6                                       NA      NA               NA\n",
            "  vocalization detection_time tag_duration rms_peak_dbfs tag_is_verified\n",
            "1    Non-vocal           0.03         3.19        -37.15               f\n",
            "2                          NA           NA            NA                \n",
            "3                          NA           NA            NA                \n",
            "4                          NA           NA            NA                \n",
            "5                          NA           NA            NA                \n",
            "6                          NA           NA            NA                \n",
            "  tag_rating observer observer_user_id species_individual_comments\n",
            "1         NA     1170             1170                            \n",
            "2         NA       -1               -1                            \n",
            "3         NA       -1               -1                            \n",
            "4         NA       -1               -1                            \n",
            "5         NA       -1               -1                            \n",
            "6         NA       -1               -1                            \n",
            "  task_comments\n",
            "1              \n",
            "2              \n",
            "3              \n",
            "4              \n",
            "5              \n",
            "6              \n"
          ]
        }
      ]
    },
    {
      "cell_type": "code",
      "source": [
        "%%R\n",
        "head(swth, n=20)#or n=another number"
      ],
      "metadata": {
        "colab": {
          "base_uri": "https://localhost:8080/"
        },
        "id": "FFdmj8b8urYE",
        "outputId": "511b6496-dd48-493f-d756-e75b21dff4a2"
      },
      "execution_count": null,
      "outputs": [
        {
          "output_type": "stream",
          "name": "stdout",
          "text": [
            "   organization project_id location location_id location_buffer_m longitude\n",
            "1            BU        657  BG-8-11       35076                NA -122.1562\n",
            "2            BU        657  BG-8-11       35076                NA -122.1562\n",
            "3            BU        657  BG-8-11       35076                NA -122.1562\n",
            "4            BU        657  BG-8-11       35076                NA -122.1562\n",
            "5            BU        657  BG-8-11       35076                NA -122.1562\n",
            "6            BU        657  BG-8-11       35076                NA -122.1562\n",
            "7            BU        657  BG-8-11       35076                NA -122.1562\n",
            "8            BU        657  BG-8-11       35076                NA -122.1562\n",
            "9            BU        657  BG-8-11       35076                NA -122.1562\n",
            "10           BU        657  BG-8-11       35076                NA -122.1562\n",
            "11           BU        657  BG-8-11       35076                NA -122.1562\n",
            "12           BU        657  BG-8-11       35076                NA -122.1562\n",
            "13           BU        657  BG-8-11       35076                NA -122.1562\n",
            "14           BU        657  BG-8-11       35076                NA -122.1562\n",
            "15           BU        657  BG-8-11       35076                NA -122.1562\n",
            "16           BU        657  BG-8-11       35076                NA -122.1562\n",
            "17           BU        657  BG-8-11       35076                NA -122.1562\n",
            "18           BU        657  BG-8-11       35076                NA -122.1562\n",
            "19           BU        657  BG-8-11       35076                NA -122.1562\n",
            "20           BU        657  BG-8-11       35076                NA -122.1562\n",
            "   latitude     equipment_make recording_id recording_date_time task_id\n",
            "1  59.41171 Wildlife Acoustics       204078 2016-06-10 15:00:00  173237\n",
            "2  59.41171 Wildlife Acoustics       203990 2016-06-10 22:23:00  173145\n",
            "3  59.41171 Wildlife Acoustics       203589 2016-06-10 23:23:00  172744\n",
            "4  59.41171 Wildlife Acoustics       204027 2016-06-11 02:00:00  173182\n",
            "5  59.41171 Wildlife Acoustics       203732 2016-06-11 02:23:00  172887\n",
            "6  59.41171 Wildlife Acoustics       203903 2016-06-11 03:23:00  173058\n",
            "7  59.41171 Wildlife Acoustics       203726 2016-06-11 06:23:00  172881\n",
            "8  59.41171 Wildlife Acoustics       203806 2016-06-11 12:00:00  172961\n",
            "9  59.41171 Wildlife Acoustics       203988 2016-06-11 22:24:00  173143\n",
            "10 59.41171 Wildlife Acoustics       203588 2016-06-11 23:24:00  172743\n",
            "11 59.41171 Wildlife Acoustics       203585 2016-06-12 00:00:00  172740\n",
            "12 59.41171 Wildlife Acoustics       203987 2016-06-12 01:00:00  173142\n",
            "13 59.41171 Wildlife Acoustics       204067 2016-06-12 03:52:00  173226\n",
            "14 59.41171 Wildlife Acoustics       204010 2016-06-12 04:22:00  173165\n",
            "15 59.41171 Wildlife Acoustics       203575 2016-06-12 05:22:00  172730\n",
            "16 59.41171 Wildlife Acoustics       203757 2016-06-12 15:00:00  172912\n",
            "17 59.41171 Wildlife Acoustics       203887 2016-06-12 21:25:00  173042\n",
            "18 59.41171 Wildlife Acoustics       203691 2016-06-13 02:00:00  172846\n",
            "19 59.41171 Wildlife Acoustics       203691 2016-06-13 02:00:00  172846\n",
            "20 59.41171 Wildlife Acoustics       203691 2016-06-13 02:00:00  172846\n",
            "   aru_task_status task_duration task_method species_code species_common_name\n",
            "1      Transcribed           60s        None         NONE                NONE\n",
            "2              New           60s        None         NONE                NONE\n",
            "3              New           60s        None         NONE                NONE\n",
            "4              New           60s        None         NONE                NONE\n",
            "5              New           60s        None         NONE                NONE\n",
            "6              New           60s        None         NONE                NONE\n",
            "7              New           60s        None         NONE                NONE\n",
            "8      Transcribed           60s        None         NONE                NONE\n",
            "9      Transcribed           60s        None         NONE                NONE\n",
            "10     Transcribed           60s        None         NONE                NONE\n",
            "11     Transcribed           60s        None         NONE                NONE\n",
            "12             New           60s        None         NONE                NONE\n",
            "13             New           60s        None         NONE                NONE\n",
            "14     Transcribed           60s        None         NONE                NONE\n",
            "15             New           60s        None         NONE                NONE\n",
            "16             New           60s        None         NONE                NONE\n",
            "17     Transcribed           60s        None         NONE                NONE\n",
            "18     Transcribed           60s        None         SWTH   Swainson's Thrush\n",
            "19     Transcribed           60s        None         SWTH   Swainson's Thrush\n",
            "20     Transcribed           60s        None         SWTH   Swainson's Thrush\n",
            "   species_scientific_name individual_order  tag_id individual_count\n",
            "1                                         1 2267935                1\n",
            "2                                        NA      NA               NA\n",
            "3                                        NA      NA               NA\n",
            "4                                        NA      NA               NA\n",
            "5                                        NA      NA               NA\n",
            "6                                        NA      NA               NA\n",
            "7                                        NA      NA               NA\n",
            "8                                         1 2290938                1\n",
            "9                                         1 2689574                1\n",
            "10                                        1 2292695                1\n",
            "11                                        1 2753805                1\n",
            "12                                       NA      NA               NA\n",
            "13                                       NA      NA               NA\n",
            "14                                        1 2734595                1\n",
            "15                                       NA      NA               NA\n",
            "16                                       NA      NA               NA\n",
            "17                                        1 2331596                1\n",
            "18      CATHARUS USTULATUS                1 2263860                1\n",
            "19      CATHARUS USTULATUS                1 2263863                1\n",
            "20      CATHARUS USTULATUS                1 2263837                1\n",
            "   vocalization detection_time tag_duration rms_peak_dbfs tag_is_verified\n",
            "1     Non-vocal           0.03         3.19        -37.15               f\n",
            "2                           NA           NA            NA                \n",
            "3                           NA           NA            NA                \n",
            "4                           NA           NA            NA                \n",
            "5                           NA           NA            NA                \n",
            "6                           NA           NA            NA                \n",
            "7                           NA           NA            NA                \n",
            "8     Non-vocal           2.13         2.51        -37.97               f\n",
            "9          Song           0.41         4.84        -40.74               f\n",
            "10    Non-vocal           0.10         1.60        -33.91               f\n",
            "11         Song           0.05         4.10        -31.37               f\n",
            "12                          NA           NA            NA                \n",
            "13                          NA           NA            NA                \n",
            "14         Song           1.83         3.24        -37.11               f\n",
            "15                          NA           NA            NA                \n",
            "16                          NA           NA            NA                \n",
            "17    Non-vocal           0.16         2.53        -49.23               f\n",
            "18         Song          19.88         1.46        -59.68               f\n",
            "19         Song          34.49         1.61        -57.09               f\n",
            "20         Song           7.60         1.48        -56.37               f\n",
            "   tag_rating observer observer_user_id species_individual_comments\n",
            "1          NA     1170             1170                            \n",
            "2          NA       -1               -1                            \n",
            "3          NA       -1               -1                            \n",
            "4          NA       -1               -1                            \n",
            "5          NA       -1               -1                            \n",
            "6          NA       -1               -1                            \n",
            "7          NA       -1               -1                            \n",
            "8          NA     1182             1182                            \n",
            "9          NA     1841             1841                            \n",
            "10         NA     1226             1226                            \n",
            "11         NA     1910             1910                            \n",
            "12         NA       -1               -1                            \n",
            "13         NA       -1               -1                            \n",
            "14         NA     1881             1881                            \n",
            "15         NA       -1               -1                            \n",
            "16         NA       -1               -1                            \n",
            "17         NA     1226             1226                            \n",
            "18         NA     1170             1170                            \n",
            "19         NA     1170             1170                            \n",
            "20         NA     1170             1170                            \n",
            "   task_comments\n",
            "1               \n",
            "2               \n",
            "3               \n",
            "4               \n",
            "5               \n",
            "6               \n",
            "7               \n",
            "8               \n",
            "9               \n",
            "10              \n",
            "11              \n",
            "12              \n",
            "13              \n",
            "14              \n",
            "15              \n",
            "16              \n",
            "17              \n",
            "18              \n",
            "19              \n",
            "20              \n"
          ]
        }
      ]
    },
    {
      "cell_type": "markdown",
      "source": [
        "You can print just the observations for specific variables by specifying the data frame name, followed by a dollar sign as separator, then the variable name. Note the observations with missing values in the variable ***detection_time***."
      ],
      "metadata": {
        "id": "E38ZF-WPu6ro"
      }
    },
    {
      "cell_type": "code",
      "source": [
        "%%R\n",
        "head(swth$detection_time, n=100)"
      ],
      "metadata": {
        "colab": {
          "base_uri": "https://localhost:8080/"
        },
        "id": "EtfklUv4vJVx",
        "outputId": "10ef2b72-1f1a-4fe9-e21d-8fce421c3ca0"
      },
      "execution_count": null,
      "outputs": [
        {
          "output_type": "stream",
          "name": "stdout",
          "text": [
            "  [1]  0.03    NA    NA    NA    NA    NA    NA  2.13  0.41  0.10  0.05    NA\n",
            " [13]    NA  1.83    NA    NA  0.16 19.88 34.49  7.60 47.75 12.15 52.56 38.59\n",
            " [25] 24.44    NA    NA    NA  5.61 13.90 19.65  9.19 38.11 42.50 55.70 31.88\n",
            " [37]  4.15 24.05 18.50 36.70 11.76 53.08 16.56 35.00 25.25  7.51  1.54 49.03\n",
            " [49]  2.63  0.10 33.13 26.39    NA    NA  0.46    NA 50.43 40.13    NA    NA\n",
            " [61]  0.11    NA    NA  0.03    NA    NA    NA  2.31  0.05  0.58    NA  0.09\n",
            " [73]    NA    NA  0.15    NA 51.08 48.06 23.66 53.60  0.41  4.90 14.90 19.91\n",
            " [85] 26.41 32.41 44.24 37.10 29.18 30.68 58.75 42.30 49.35 10.30 46.50 28.38\n",
            " [97] 17.00 55.31  0.93 43.33\n"
          ]
        }
      ]
    },
    {
      "cell_type": "markdown",
      "source": [
        "You can identify specific rows and columns in the data frame by their number(s). Unlike Python, row numbers and column numbers in a R data frame start with number 1 rather than 0."
      ],
      "metadata": {
        "id": "YSP_bes4va9p"
      }
    },
    {
      "cell_type": "code",
      "source": [
        "%%R\n",
        "swth[1:10,]$detection_time  #gets the first 10 observations (rows) of the column detection_time"
      ],
      "metadata": {
        "colab": {
          "base_uri": "https://localhost:8080/"
        },
        "id": "E-m372xKv8d-",
        "outputId": "5f0caeb9-9bae-498d-96df-a29ff5d304ba"
      },
      "execution_count": null,
      "outputs": [
        {
          "output_type": "stream",
          "name": "stdout",
          "text": [
            " [1] 0.03   NA   NA   NA   NA   NA   NA 2.13 0.41 0.10\n"
          ]
        }
      ]
    },
    {
      "cell_type": "code",
      "source": [
        "%%R\n",
        "head(swth[,1:3])  #prints the first 6 observations (default) but only the values for the first 3 columns"
      ],
      "metadata": {
        "colab": {
          "base_uri": "https://localhost:8080/"
        },
        "id": "l0Q1ciESwQMt",
        "outputId": "f76f45c4-40fa-45ab-a68a-8f244d43cafb"
      },
      "execution_count": null,
      "outputs": [
        {
          "output_type": "stream",
          "name": "stdout",
          "text": [
            "  organization project_id location\n",
            "1           BU        657  BG-8-11\n",
            "2           BU        657  BG-8-11\n",
            "3           BU        657  BG-8-11\n",
            "4           BU        657  BG-8-11\n",
            "5           BU        657  BG-8-11\n",
            "6           BU        657  BG-8-11\n"
          ]
        }
      ]
    },
    {
      "cell_type": "code",
      "source": [
        "%%R\n",
        "swth[1:10,1:3]  #prints first 10 rows and just the first 3 columns"
      ],
      "metadata": {
        "colab": {
          "base_uri": "https://localhost:8080/"
        },
        "id": "d-gcvxOkwhEg",
        "outputId": "5da6b6ae-4a1c-46a4-eba1-9dac775e3afc"
      },
      "execution_count": null,
      "outputs": [
        {
          "output_type": "stream",
          "name": "stdout",
          "text": [
            "   organization project_id location\n",
            "1            BU        657  BG-8-11\n",
            "2            BU        657  BG-8-11\n",
            "3            BU        657  BG-8-11\n",
            "4            BU        657  BG-8-11\n",
            "5            BU        657  BG-8-11\n",
            "6            BU        657  BG-8-11\n",
            "7            BU        657  BG-8-11\n",
            "8            BU        657  BG-8-11\n",
            "9            BU        657  BG-8-11\n",
            "10           BU        657  BG-8-11\n"
          ]
        }
      ]
    },
    {
      "cell_type": "markdown",
      "source": [
        "Lists the type of data and possible values of each variable in **swth**."
      ],
      "metadata": {
        "id": "j_f7GGh7hvJr"
      }
    },
    {
      "cell_type": "code",
      "source": [
        "%%R\n",
        "str(swth)"
      ],
      "metadata": {
        "colab": {
          "base_uri": "https://localhost:8080/"
        },
        "id": "sjL8L_N1h1wj",
        "outputId": "966d7408-4256-4f4b-e5aa-13182556c6cd"
      },
      "execution_count": null,
      "outputs": [
        {
          "output_type": "stream",
          "name": "stdout",
          "text": [
            "'data.frame':\t5820 obs. of  30 variables:\n",
            " $ organization               : chr  \"BU\" \"BU\" \"BU\" \"BU\" ...\n",
            " $ project_id                 : int  657 657 657 657 657 657 657 657 657 657 ...\n",
            " $ location                   : chr  \"BG-8-11\" \"BG-8-11\" \"BG-8-11\" \"BG-8-11\" ...\n",
            " $ location_id                : int  35076 35076 35076 35076 35076 35076 35076 35076 35076 35076 ...\n",
            " $ location_buffer_m          : logi  NA NA NA NA NA NA ...\n",
            " $ longitude                  : num  -122 -122 -122 -122 -122 ...\n",
            " $ latitude                   : num  59.4 59.4 59.4 59.4 59.4 ...\n",
            " $ equipment_make             : chr  \"Wildlife Acoustics\" \"Wildlife Acoustics\" \"Wildlife Acoustics\" \"Wildlife Acoustics\" ...\n",
            " $ recording_id               : int  204078 203990 203589 204027 203732 203903 203726 203806 203988 203588 ...\n",
            " $ recording_date_time        : chr  \"2016-06-10 15:00:00\" \"2016-06-10 22:23:00\" \"2016-06-10 23:23:00\" \"2016-06-11 02:00:00\" ...\n",
            " $ task_id                    : int  173237 173145 172744 173182 172887 173058 172881 172961 173143 172743 ...\n",
            " $ aru_task_status            : chr  \"Transcribed\" \"New\" \"New\" \"New\" ...\n",
            " $ task_duration              : chr  \"60s\" \"60s\" \"60s\" \"60s\" ...\n",
            " $ task_method                : chr  \"None\" \"None\" \"None\" \"None\" ...\n",
            " $ species_code               : chr  \"NONE\" \"NONE\" \"NONE\" \"NONE\" ...\n",
            " $ species_common_name        : chr  \"NONE\" \"NONE\" \"NONE\" \"NONE\" ...\n",
            " $ species_scientific_name    : chr  \"\" \"\" \"\" \"\" ...\n",
            " $ individual_order           : int  1 NA NA NA NA NA NA 1 1 1 ...\n",
            " $ tag_id                     : int  2267935 NA NA NA NA NA NA 2290938 2689574 2292695 ...\n",
            " $ individual_count           : int  1 NA NA NA NA NA NA 1 1 1 ...\n",
            " $ vocalization               : chr  \"Non-vocal\" \"\" \"\" \"\" ...\n",
            " $ detection_time             : num  0.03 NA NA NA NA NA NA 2.13 0.41 0.1 ...\n",
            " $ tag_duration               : num  3.19 NA NA NA NA NA NA 2.51 4.84 1.6 ...\n",
            " $ rms_peak_dbfs              : num  -37.1 NA NA NA NA ...\n",
            " $ tag_is_verified            : chr  \"f\" \"\" \"\" \"\" ...\n",
            " $ tag_rating                 : logi  NA NA NA NA NA NA ...\n",
            " $ observer                   : int  1170 -1 -1 -1 -1 -1 -1 1182 1841 1226 ...\n",
            " $ observer_user_id           : int  1170 -1 -1 -1 -1 -1 -1 1182 1841 1226 ...\n",
            " $ species_individual_comments: chr  \"\" \"\" \"\" \"\" ...\n",
            " $ task_comments              : chr  \"\" \"\" \"\" \"\" ...\n"
          ]
        }
      ]
    },
    {
      "cell_type": "code",
      "source": [
        "%%R\n",
        "nrow(swth) #number of observations (rows) in data frame"
      ],
      "metadata": {
        "colab": {
          "base_uri": "https://localhost:8080/"
        },
        "id": "ZQOMUVPyw2Dm",
        "outputId": "0d66cc90-3399-41ca-a242-1768d87b5b0c"
      },
      "execution_count": null,
      "outputs": [
        {
          "output_type": "stream",
          "name": "stdout",
          "text": [
            "[1] 5820\n"
          ]
        }
      ]
    },
    {
      "cell_type": "code",
      "source": [
        "%%R\n",
        "ncol(swth) #number of variables (columns) in data frame"
      ],
      "metadata": {
        "colab": {
          "base_uri": "https://localhost:8080/"
        },
        "id": "SQPuM0zrw8FU",
        "outputId": "f3a5c318-3dd5-410c-f962-187fcd45aada"
      },
      "execution_count": null,
      "outputs": [
        {
          "output_type": "stream",
          "name": "stdout",
          "text": [
            "[1] 30\n"
          ]
        }
      ]
    },
    {
      "cell_type": "markdown",
      "source": [
        "You can also read files into Google Colab from where they are stored on Google Drive (https://saturncloud.io/blog/how-to-import-files-from-google-drive-to-colab/). The first step is to mount your Google Drive account to your Colab notebook. To do this, you would copy and run cells at the link in Python (so those cells do not begin with %%R). However, the Python commands may not work and may give you a runtime error if your Google Drive's root folder contains too many files: so if you do think you'll want to load files into Colab from Google Drive, *it's important to keep your Google folder nice and tidy!* After that you would use Python to read in a file from Google Drive as a Python object (e.g., a Python data frame). You could then visit https://medium.com/grabngoinfo/how-to-use-r-with-google-colab-notebook-610c3a2f0eab to learn how to convert Python data frames to R data frames."
      ],
      "metadata": {
        "id": "ZFpiEykAIQQJ"
      }
    },
    {
      "cell_type": "code",
      "source": [
        "from google.colab import drive\n",
        "drive.mount('/content/drive')"
      ],
      "metadata": {
        "colab": {
          "base_uri": "https://localhost:8080/"
        },
        "id": "ktHVKwzB3QjA",
        "outputId": "8d4e5049-aee6-4e49-d858-9366dd55988c"
      },
      "execution_count": null,
      "outputs": [
        {
          "output_type": "stream",
          "name": "stdout",
          "text": [
            "Mounted at /content/drive\n"
          ]
        }
      ]
    },
    {
      "cell_type": "code",
      "source": [
        "%%R\n",
        "a<-read.csv(\"/content/drive/Shareddrives/BayneLab_wildlife_modelling_class/course_materials/colab_notebook_datasets/Swainsons-Thrush-song-rates.csv\")\n",
        "print(head(a))#prints all variables from first 6 observations in dataset\n",
        "a2<-head(a)#save (first 6 observations only) as a different dataset, then write back to Google Drive folder\n",
        "write.csv(a2,\"/content/drive/Shareddrives/BayneLab_wildlife_modelling_class/student_assignments/test-yourinitialshere.csv\")\n",
        "#write back to an existing Google Drive output folder, under a different file name"
      ],
      "metadata": {
        "colab": {
          "base_uri": "https://localhost:8080/"
        },
        "id": "fkgr2N09-lqG",
        "outputId": "908aa556-93d3-4cd8-f250-bf7d8ea07ae5"
      },
      "execution_count": null,
      "outputs": [
        {
          "output_type": "stream",
          "name": "stdout",
          "text": [
            "  organization project_id location location_id location_buffer_m longitude\n",
            "1           BU        657  BG-8-11       35076                NA -122.1562\n",
            "2           BU        657  BG-8-11       35076                NA -122.1562\n",
            "3           BU        657  BG-8-11       35076                NA -122.1562\n",
            "4           BU        657  BG-8-11       35076                NA -122.1562\n",
            "5           BU        657  BG-8-11       35076                NA -122.1562\n",
            "6           BU        657  BG-8-11       35076                NA -122.1562\n",
            "  latitude     equipment_make recording_id recording_date_time task_id\n",
            "1 59.41171 Wildlife Acoustics       204078 2016-06-10 15:00:00  173237\n",
            "2 59.41171 Wildlife Acoustics       203990 2016-06-10 22:23:00  173145\n",
            "3 59.41171 Wildlife Acoustics       203589 2016-06-10 23:23:00  172744\n",
            "4 59.41171 Wildlife Acoustics       204027 2016-06-11 02:00:00  173182\n",
            "5 59.41171 Wildlife Acoustics       203732 2016-06-11 02:23:00  172887\n",
            "6 59.41171 Wildlife Acoustics       203903 2016-06-11 03:23:00  173058\n",
            "  aru_task_status task_duration task_method species_code species_common_name\n",
            "1     Transcribed           60s        None         NONE                NONE\n",
            "2             New           60s        None         NONE                NONE\n",
            "3             New           60s        None         NONE                NONE\n",
            "4             New           60s        None         NONE                NONE\n",
            "5             New           60s        None         NONE                NONE\n",
            "6             New           60s        None         NONE                NONE\n",
            "  species_scientific_name individual_order  tag_id individual_count\n",
            "1                                        1 2267935                1\n",
            "2                                       NA      NA               NA\n",
            "3                                       NA      NA               NA\n",
            "4                                       NA      NA               NA\n",
            "5                                       NA      NA               NA\n",
            "6                                       NA      NA               NA\n",
            "  vocalization detection_time tag_duration rms_peak_dbfs tag_is_verified\n",
            "1    Non-vocal           0.03         3.19        -37.15               f\n",
            "2                          NA           NA            NA                \n",
            "3                          NA           NA            NA                \n",
            "4                          NA           NA            NA                \n",
            "5                          NA           NA            NA                \n",
            "6                          NA           NA            NA                \n",
            "  tag_rating observer observer_user_id species_individual_comments\n",
            "1         NA     1170             1170                            \n",
            "2         NA       -1               -1                            \n",
            "3         NA       -1               -1                            \n",
            "4         NA       -1               -1                            \n",
            "5         NA       -1               -1                            \n",
            "6         NA       -1               -1                            \n",
            "  task_comments\n",
            "1              \n",
            "2              \n",
            "3              \n",
            "4              \n",
            "5              \n",
            "6              \n"
          ]
        }
      ]
    },
    {
      "cell_type": "markdown",
      "source": [
        "If data sets are small enough to store on a *public* GitHub repository (i.e., less than 25 MB), you could load data sets from a *public* GitHub repository."
      ],
      "metadata": {
        "id": "-qXbEzS_upFl"
      }
    },
    {
      "cell_type": "code",
      "source": [
        "import pandas as pd\n",
        "url = 'copied_raw_GH_link'\n",
        "df1 = pd.read_csv(url)\n",
        "# Dataset is now stored in a Pandas Dataframe\n",
        "x = %R df1\n",
        "# Converts Pandas Dataframe to an R Dataframe"
      ],
      "metadata": {
        "colab": {
          "base_uri": "https://localhost:8080/"
        },
        "id": "7lMrpsLUtJAi",
        "outputId": "c5758924-0057-45cd-c91c-7aba32c2ffc8"
      },
      "execution_count": null,
      "outputs": [
        {
          "output_type": "stream",
          "name": "stderr",
          "text": [
            "WARNING:rpy2.rinterface_lib.callbacks:R[write to console]: Error in file(file, \"rt\") : cannot open the connection\n",
            "\n",
            "WARNING:rpy2.rinterface_lib.callbacks:R[write to console]: In addition: \n",
            "WARNING:rpy2.rinterface_lib.callbacks:R[write to console]: Warning message:\n",
            "\n",
            "WARNING:rpy2.rinterface_lib.callbacks:R[write to console]: In file(file, \"rt\") :\n",
            "WARNING:rpy2.rinterface_lib.callbacks:R[write to console]: \n",
            " \n",
            "WARNING:rpy2.rinterface_lib.callbacks:R[write to console]:  cannot open file 'F:/Team Taught Landscape Ecology Course/colab_notebook_datasets/Swainsons-Thrush-song-rates.csv': No such file or directory\n",
            "\n"
          ]
        },
        {
          "output_type": "stream",
          "name": "stdout",
          "text": [
            "\n",
            "Error in file(file, \"rt\") : cannot open the connection\n"
          ]
        }
      ]
    },
    {
      "cell_type": "markdown",
      "source": [
        "##Learning Outcome: Save data files, output, notebooks in Google Colab.\n",
        "\n",
        "Saving Your R Notebook in Google Colaboratory, you can click on “File” in the top left corner and select “Save” or use the keyboard shortcut “Ctrl+S”. Colab will save your notebook to your Google Drive account, where you can access it later. To save a data file that you have created or modified, you can, e.g.,"
      ],
      "metadata": {
        "id": "ZFtnBHquiNUm"
      }
    },
    {
      "cell_type": "code",
      "source": [
        "%%R\n",
        "swth2<-swth\n",
        "write.csv(swth2, file=\"/content/ABMI_SWTH_savedExample.csv\")"
      ],
      "metadata": {
        "id": "LkKUE6iOirl1"
      },
      "execution_count": null,
      "outputs": []
    },
    {
      "cell_type": "markdown",
      "source": [
        "If you refresh the Table of Contents and look within \"Files\", you will see that we saved a *csv* file with the ***write.csv()*** command. Another way you can save data is as a file with an *RData* extension with the ***save()*** command. *RData* files can store data more compactly than a *.csv file can, and can store multiple objects (files, data frames, images, constants, vectors)."
      ],
      "metadata": {
        "id": "TxxWocDohans"
      }
    },
    {
      "cell_type": "code",
      "source": [
        "%%R\n",
        "save(swth, swth2, file=\"/content/SWTH.anotherfilename.RData\")"
      ],
      "metadata": {
        "id": "7-dBfMB4j0r9"
      },
      "execution_count": null,
      "outputs": []
    },
    {
      "cell_type": "markdown",
      "source": [
        "List the data frames and other objects currently stored in open R workspace."
      ],
      "metadata": {
        "id": "qYJ4oXqQjOK0"
      }
    },
    {
      "cell_type": "code",
      "source": [
        "%%R\n",
        "ls()"
      ],
      "metadata": {
        "colab": {
          "base_uri": "https://localhost:8080/"
        },
        "id": "bSCfjuN-kn5I",
        "outputId": "a71c0a6d-cb16-4646-aa02-3671eb608472"
      },
      "execution_count": null,
      "outputs": [
        {
          "output_type": "stream",
          "name": "stdout",
          "text": [
            "[1] \"a\"     \"a2\"    \"swth\"  \"swth2\" \"x\"    \n"
          ]
        }
      ]
    },
    {
      "cell_type": "markdown",
      "source": [
        "Remove objects from the workspace. This may be necessary once you have lots of larger files in memory that you are no longer using, to free up space."
      ],
      "metadata": {
        "id": "euAE8SFQksRF"
      }
    },
    {
      "cell_type": "code",
      "source": [
        "%%R\n",
        "rm(data,swth,swth2,x,p)"
      ],
      "metadata": {
        "id": "zLIxB8Exkwgp"
      },
      "execution_count": null,
      "outputs": []
    },
    {
      "cell_type": "markdown",
      "source": [
        "Confirm that those objects have been removed."
      ],
      "metadata": {
        "id": "SkMUTNayk2nT"
      }
    },
    {
      "cell_type": "code",
      "source": [
        "%%R\n",
        "ls()"
      ],
      "metadata": {
        "colab": {
          "base_uri": "https://localhost:8080/"
        },
        "id": "lvKs2Uakk63q",
        "outputId": "4314d7c4-5de2-4fa8-83d4-3223ac428f77"
      },
      "execution_count": null,
      "outputs": [
        {
          "output_type": "stream",
          "name": "stdout",
          "text": [
            "[1] \"a\"  \"a2\"\n"
          ]
        }
      ]
    },
    {
      "cell_type": "markdown",
      "source": [
        "Read data back into R. This time we'll use the ***load()*** command to load the contents of the *RData* file we saved."
      ],
      "metadata": {
        "id": "gDZB-6ljlEE7"
      }
    },
    {
      "cell_type": "code",
      "source": [
        "%%R\n",
        "load(\"/content/SWTH.anotherfilename.RData\")\n",
        "ls()"
      ],
      "metadata": {
        "colab": {
          "base_uri": "https://localhost:8080/"
        },
        "id": "ieVg8OGRlSZO",
        "outputId": "0d355708-5e4a-42b8-b000-66bc8065f1d3"
      },
      "execution_count": null,
      "outputs": [
        {
          "output_type": "stream",
          "name": "stdout",
          "text": [
            "[1] \"a\"     \"a2\"    \"swth\"  \"swth2\"\n"
          ]
        }
      ]
    },
    {
      "cell_type": "markdown",
      "source": [
        "Get working directory where the data are being stored in Google Colab. The result is a file path name in quotation marks. Unlike R, the working directory in Colab doesn't end in a back slash. Relative file paths to input and output files, that is, *relative* to the working directory, are used to read in inputs and save outputs."
      ],
      "metadata": {
        "id": "ex9OvdVlmAPJ"
      }
    },
    {
      "cell_type": "code",
      "source": [
        "%%R\n",
        "getwd()"
      ],
      "metadata": {
        "colab": {
          "base_uri": "https://localhost:8080/"
        },
        "id": "b4-WZW5Vl0eU",
        "outputId": "39013b70-9ea0-4e95-8b86-d43f3c53dd5c"
      },
      "execution_count": null,
      "outputs": [
        {
          "output_type": "stream",
          "name": "stdout",
          "text": [
            "[1] \"/content\"\n"
          ]
        }
      ]
    },
    {
      "cell_type": "markdown",
      "source": [
        "#Learning Outcome: Examine file contents in Colab, using commands in base R.\n",
        "\n",
        "Take another look at the variables in the data frame ***rugr***, along with some summary statistics for each variable."
      ],
      "metadata": {
        "id": "Jwj0CRmfm3Ev"
      }
    },
    {
      "cell_type": "code",
      "source": [
        "%%R\n",
        "str(swth)\n",
        "\n",
        "\n",
        "summary(swth)"
      ],
      "metadata": {
        "colab": {
          "base_uri": "https://localhost:8080/"
        },
        "id": "qbJloOeqnLYQ",
        "outputId": "7b32c9bd-59d8-4699-ca17-1e9ceb9c760c"
      },
      "execution_count": null,
      "outputs": [
        {
          "output_type": "stream",
          "name": "stdout",
          "text": [
            "'data.frame':\t5820 obs. of  30 variables:\n",
            " $ organization               : chr  \"BU\" \"BU\" \"BU\" \"BU\" ...\n",
            " $ project_id                 : int  657 657 657 657 657 657 657 657 657 657 ...\n",
            " $ location                   : chr  \"BG-8-11\" \"BG-8-11\" \"BG-8-11\" \"BG-8-11\" ...\n",
            " $ location_id                : int  35076 35076 35076 35076 35076 35076 35076 35076 35076 35076 ...\n",
            " $ location_buffer_m          : logi  NA NA NA NA NA NA ...\n",
            " $ longitude                  : num  -122 -122 -122 -122 -122 ...\n",
            " $ latitude                   : num  59.4 59.4 59.4 59.4 59.4 ...\n",
            " $ equipment_make             : chr  \"Wildlife Acoustics\" \"Wildlife Acoustics\" \"Wildlife Acoustics\" \"Wildlife Acoustics\" ...\n",
            " $ recording_id               : int  204078 203990 203589 204027 203732 203903 203726 203806 203988 203588 ...\n",
            " $ recording_date_time        : chr  \"2016-06-10 15:00:00\" \"2016-06-10 22:23:00\" \"2016-06-10 23:23:00\" \"2016-06-11 02:00:00\" ...\n",
            " $ task_id                    : int  173237 173145 172744 173182 172887 173058 172881 172961 173143 172743 ...\n",
            " $ aru_task_status            : chr  \"Transcribed\" \"New\" \"New\" \"New\" ...\n",
            " $ task_duration              : chr  \"60s\" \"60s\" \"60s\" \"60s\" ...\n",
            " $ task_method                : chr  \"None\" \"None\" \"None\" \"None\" ...\n",
            " $ species_code               : chr  \"NONE\" \"NONE\" \"NONE\" \"NONE\" ...\n",
            " $ species_common_name        : chr  \"NONE\" \"NONE\" \"NONE\" \"NONE\" ...\n",
            " $ species_scientific_name    : chr  \"\" \"\" \"\" \"\" ...\n",
            " $ individual_order           : int  1 NA NA NA NA NA NA 1 1 1 ...\n",
            " $ tag_id                     : int  2267935 NA NA NA NA NA NA 2290938 2689574 2292695 ...\n",
            " $ individual_count           : int  1 NA NA NA NA NA NA 1 1 1 ...\n",
            " $ vocalization               : chr  \"Non-vocal\" \"\" \"\" \"\" ...\n",
            " $ detection_time             : num  0.03 NA NA NA NA NA NA 2.13 0.41 0.1 ...\n",
            " $ tag_duration               : num  3.19 NA NA NA NA NA NA 2.51 4.84 1.6 ...\n",
            " $ rms_peak_dbfs              : num  -37.1 NA NA NA NA ...\n",
            " $ tag_is_verified            : chr  \"f\" \"\" \"\" \"\" ...\n",
            " $ tag_rating                 : logi  NA NA NA NA NA NA ...\n",
            " $ observer                   : int  1170 -1 -1 -1 -1 -1 -1 1182 1841 1226 ...\n",
            " $ observer_user_id           : int  1170 -1 -1 -1 -1 -1 -1 1182 1841 1226 ...\n",
            " $ species_individual_comments: chr  \"\" \"\" \"\" \"\" ...\n",
            " $ task_comments              : chr  \"\" \"\" \"\" \"\" ...\n",
            " organization         project_id    location          location_id   \n",
            " Length:5820        Min.   :657   Length:5820        Min.   :32109  \n",
            " Class :character   1st Qu.:657   Class :character   1st Qu.:32109  \n",
            " Mode  :character   Median :657   Mode  :character   Median :35076  \n",
            "                    Mean   :657                      Mean   :41151  \n",
            "                    3rd Qu.:657                      3rd Qu.:58369  \n",
            "                    Max.   :657                      Max.   :58369  \n",
            "                                                                    \n",
            " location_buffer_m   longitude         latitude     equipment_make    \n",
            " Mode:logical      Min.   :-122.2   Min.   :53.79   Length:5820       \n",
            " NA's:5820         1st Qu.:-122.2   1st Qu.:53.79   Class :character  \n",
            "                   Median :-113.1   Median :59.41   Mode  :character  \n",
            "                   Mean   :-115.2   Mean   :57.45                     \n",
            "                   3rd Qu.:-111.4   3rd Qu.:60.04                     \n",
            "                   Max.   :-111.4   Max.   :60.04                     \n",
            "                                                                      \n",
            "  recording_id    recording_date_time    task_id       aru_task_status   \n",
            " Min.   :201098   Length:5820         Min.   :170245   Length:5820       \n",
            " 1st Qu.:201861   Class :character    1st Qu.:171012   Class :character  \n",
            " Median :203994   Mode  :character    Median :173149   Mode  :character  \n",
            " Mean   :203531                       Mean   :172686                     \n",
            " 3rd Qu.:204856                       3rd Qu.:174015                     \n",
            " Max.   :205911                       Max.   :175070                     \n",
            "                                                                         \n",
            " task_duration      task_method        species_code       species_common_name\n",
            " Length:5820        Length:5820        Length:5820        Length:5820        \n",
            " Class :character   Class :character   Class :character   Class :character   \n",
            " Mode  :character   Mode  :character   Mode  :character   Mode  :character   \n",
            "                                                                             \n",
            "                                                                             \n",
            "                                                                             \n",
            "                                                                             \n",
            " species_scientific_name individual_order     tag_id        individual_count\n",
            " Length:5820             Min.   :1.000    Min.   :2180447   Min.   :1.000   \n",
            " Class :character        1st Qu.:1.000    1st Qu.:2235743   1st Qu.:1.000   \n",
            " Mode  :character        Median :1.000    Median :2296236   Median :1.000   \n",
            "                         Mean   :1.179    Mean   :2425735   Mean   :1.002   \n",
            "                         3rd Qu.:1.000    3rd Qu.:2690089   3rd Qu.:1.000   \n",
            "                         Max.   :4.000    Max.   :2756569   Max.   :2.000   \n",
            "                         NA's   :2298     NA's   :2298      NA's   :2298    \n",
            " vocalization       detection_time    tag_duration    rms_peak_dbfs   \n",
            " Length:5820        Min.   : 0.000   Min.   : 0.110   Min.   :-79.67  \n",
            " Class :character   1st Qu.: 2.065   1st Qu.: 1.230   1st Qu.:-60.15  \n",
            " Mode  :character   Median :18.700   Median : 1.680   Median :-51.64  \n",
            "                    Mean   :21.873   Mean   : 1.824   Mean   :-51.04  \n",
            "                    3rd Qu.:38.998   3rd Qu.: 2.340   3rd Qu.:-43.35  \n",
            "                    Max.   :59.750   Max.   :18.260   Max.   : -9.09  \n",
            "                    NA's   :2298     NA's   :2298     NA's   :2374    \n",
            " tag_is_verified    tag_rating        observer      observer_user_id\n",
            " Length:5820        Mode:logical   Min.   :  -1.0   Min.   :  -1.0  \n",
            " Class :character   NA's:5820      1st Qu.:  -1.0   1st Qu.:  -1.0  \n",
            " Mode  :character                  Median :1170.0   Median :1170.0  \n",
            "                                   Mean   : 866.5   Mean   : 866.5  \n",
            "                                   3rd Qu.:1226.0   3rd Qu.:1226.0  \n",
            "                                   Max.   :1910.0   Max.   :1910.0  \n",
            "                                                                    \n",
            " species_individual_comments task_comments     \n",
            " Length:5820                 Length:5820       \n",
            " Class :character            Class :character  \n",
            " Mode  :character            Mode  :character  \n",
            "                                               \n",
            "                                               \n",
            "                                               \n",
            "                                               \n"
          ]
        }
      ]
    },
    {
      "cell_type": "markdown",
      "source": [
        "You can look at the data within individual *variables* in the *data frame* by calling a variable's name within R. But what happens if you try to look at individual variables in the data frame, when you just call the variable name without the name of the data frame where the variable is stored?"
      ],
      "metadata": {
        "id": "vIuscLSPnYYI"
      }
    },
    {
      "cell_type": "code",
      "source": [
        "%%R\n",
        "longitude"
      ],
      "metadata": {
        "colab": {
          "base_uri": "https://localhost:8080/"
        },
        "id": "9A6uj3CWoG5r",
        "outputId": "1dfdebec-978e-4aa9-fbdc-b41012fb918d"
      },
      "execution_count": null,
      "outputs": [
        {
          "output_type": "stream",
          "name": "stderr",
          "text": [
            "WARNING:rpy2.rinterface_lib.callbacks:R[write to console]: Error in (function (expr, envir = parent.frame(), enclos = if (is.list(envir) ||  : \n",
            "  object 'longitude' not found\n",
            "\n",
            "WARNING:rpy2.rinterface_lib.callbacks:R[write to console]: In addition: \n",
            "WARNING:rpy2.rinterface_lib.callbacks:R[write to console]: Warning messages:\n",
            "\n",
            "WARNING:rpy2.rinterface_lib.callbacks:R[write to console]: 1: \n",
            "WARNING:rpy2.rinterface_lib.callbacks:R[write to console]: In rm(data, swth, swth2, x, p) :\n",
            "WARNING:rpy2.rinterface_lib.callbacks:R[write to console]:  object 'data' not found\n",
            "\n",
            "WARNING:rpy2.rinterface_lib.callbacks:R[write to console]: 2: \n",
            "WARNING:rpy2.rinterface_lib.callbacks:R[write to console]: In rm(data, swth, swth2, x, p) :\n",
            "WARNING:rpy2.rinterface_lib.callbacks:R[write to console]:  object 'p' not found\n",
            "\n"
          ]
        },
        {
          "output_type": "stream",
          "name": "stdout",
          "text": [
            "\n",
            "Error in (function (expr, envir = parent.frame(), enclos = if (is.list(envir) ||  : \n",
            "  object 'longitude' not found\n"
          ]
        }
      ]
    },
    {
      "cell_type": "markdown",
      "source": [
        "When calling variables that are stored within a data frame, you *almost always* have to include the name of the data frame, then a dollar sign separator, *then* the variable name within the data frame."
      ],
      "metadata": {
        "id": "Fjiw-NOBoO4n"
      }
    },
    {
      "cell_type": "code",
      "source": [
        "%%R\n",
        "head(swth$longitude)#just the first few observations, to cut down space."
      ],
      "metadata": {
        "colab": {
          "base_uri": "https://localhost:8080/"
        },
        "id": "z9ped_-Qoj2k",
        "outputId": "f7845f03-455c-4071-a230-4258ef1542f5"
      },
      "execution_count": null,
      "outputs": [
        {
          "output_type": "stream",
          "name": "stdout",
          "text": [
            "[1] -122.1562 -122.1562 -122.1562 -122.1562 -122.1562 -122.1562\n"
          ]
        }
      ]
    },
    {
      "cell_type": "markdown",
      "source": [
        "To make it easier to write variable names without including the data frame name and dollar sign, you can \"attach\" a data frame. Then you can get away with writing just the variable name."
      ],
      "metadata": {
        "id": "9Wua_Xy4pn8N"
      }
    },
    {
      "cell_type": "code",
      "source": [
        "%%R\n",
        "attach(swth)\n",
        "head(longitude)#just the first few observations, to cut down printed output."
      ],
      "metadata": {
        "colab": {
          "base_uri": "https://localhost:8080/"
        },
        "id": "hCwFycyspv2j",
        "outputId": "4ebf9cd1-9bcf-4178-edbb-a29ad935b1c9"
      },
      "execution_count": null,
      "outputs": [
        {
          "output_type": "stream",
          "name": "stdout",
          "text": [
            "[1] -122.1562 -122.1562 -122.1562 -122.1562 -122.1562 -122.1562\n"
          ]
        }
      ]
    },
    {
      "cell_type": "markdown",
      "source": [
        "Attaching a data frame is generally not recommended once you have multiple data frames in the same workspace, in case the same variable name is used in multiple data frames. That's not an uncommon situation in R: you might use a common variable column in two data frames to merge those data frames based on the values in that column (e.g., site name in a bird survey data frame and a vegetation data frame). To \"detach\" a data frame and return to the\n",
        "dataframeName$variableName syntax:"
      ],
      "metadata": {
        "id": "RbSYFTIuqKRW"
      }
    },
    {
      "cell_type": "code",
      "source": [
        "%%R\n",
        "detach(swth)\n",
        "head(swth$longitude)"
      ],
      "metadata": {
        "colab": {
          "base_uri": "https://localhost:8080/"
        },
        "id": "YiyiA8dgqrW6",
        "outputId": "46f06122-95fc-42e4-f5fa-780fec4791ba"
      },
      "execution_count": null,
      "outputs": [
        {
          "output_type": "stream",
          "name": "stdout",
          "text": [
            "[1] -122.1562 -122.1562 -122.1562 -122.1562 -122.1562 -122.1562\n"
          ]
        }
      ]
    },
    {
      "cell_type": "markdown",
      "source": [
        "#Learning Outcome: Identify different parts of a script: data frame, variables, constants, basic R functions, operations, objects, comments\n",
        "\n",
        "There are two data frames currently active in this R workspace. What are their names? What command can you use to find the contents in this Colab R workspace?\n",
        "\n",
        "Give 2 examples of variable names that are for real numbers stored in either data frame.\n",
        "\n",
        "Give 1 example of a variable name that is for TRUE/FALSE data stored in either data frame.\n",
        "\n",
        "Give 3 examples of variable names that are for integers stored in either data frame.\n",
        "\n",
        "Give 3 examples of variable names that are for character strings stored in either data frame.\n"
      ],
      "metadata": {
        "id": "brvtrohAq8OI"
      }
    },
    {
      "cell_type": "code",
      "source": [
        "%%R\n",
        "mean(swth$detection_time, na.rm=TRUE)\n",
        "#na.rm=TRUE means that mean value will be calculated just on non-missing observations"
      ],
      "metadata": {
        "colab": {
          "base_uri": "https://localhost:8080/"
        },
        "id": "ZPq1duYCuNai",
        "outputId": "7b617eaa-9833-4c75-a873-866baae1de61"
      },
      "execution_count": null,
      "outputs": [
        {
          "output_type": "stream",
          "name": "stdout",
          "text": [
            "[1] 21.87334\n"
          ]
        }
      ]
    },
    {
      "cell_type": "markdown",
      "source": [
        "The above code shows how to calculate the mean value in the data frame \"swth\" for the variable \"detection time\". Try removing the \", na.rm=TRUE\" from the code and see what you get. Why do you get the result you get? ***Hint: summary(swth$detection_time)***.\n",
        "\n",
        "When you calculated the mean value above, neither R nor Google Drive stores the result. You need to save the result of a function in an ***object***."
      ],
      "metadata": {
        "id": "XMUwZ6wQusiQ"
      }
    },
    {
      "cell_type": "code",
      "source": [
        "%%R\n",
        "detectionMean<-mean(swth$detection_time, na.rm=TRUE)\n",
        "detectionMean"
      ],
      "metadata": {
        "colab": {
          "base_uri": "https://localhost:8080/"
        },
        "id": "ZDn3bfAdvXeR",
        "outputId": "6382aa8b-c087-4e46-8829-6995662f8034"
      },
      "execution_count": null,
      "outputs": [
        {
          "output_type": "stream",
          "name": "stdout",
          "text": [
            "[1] 21.87334\n"
          ]
        }
      ]
    },
    {
      "cell_type": "markdown",
      "source": [
        "Now the mean value is saved in the object detectionMean and this value can be called up whenever you need it, without rerunning *mean(swth$detection_time, na.rm=TRUE)* over and over again. There are lots of basic functions in R like ***sum***, ***median***, ***min***, ***max***, ***sd***, ***var***, ***length***, ***stem***, and ***hist***. Try replacing the function ***mean*** in the code cell below with one of these other functions, and save the result in an object with an appropriate name. Do you need to include *, na.rm=TRUE* for all of these functions?"
      ],
      "metadata": {
        "id": "qhuPh9RsvhZT"
      }
    },
    {
      "cell_type": "code",
      "source": [
        "%%R\n",
        "objectNameHere<-mean(swth$detection_time, na.rm=TRUE)\n",
        "objectNameHere"
      ],
      "metadata": {
        "colab": {
          "base_uri": "https://localhost:8080/"
        },
        "id": "8B36b0KuwhSN",
        "outputId": "6bcdbfb6-516d-438f-b982-6deab612cfe5"
      },
      "execution_count": null,
      "outputs": [
        {
          "output_type": "stream",
          "name": "stdout",
          "text": [
            "[1] 21.87334\n"
          ]
        }
      ]
    },
    {
      "cell_type": "markdown",
      "source": [
        "##Learning Outcome: Subset data (*filtering*, *slicing*) in Colab, using functions in base R and ***tidyverse*** packages.\n",
        "\n",
        "Analyses are usually broken down into multiple steps, and in many analyses, data may be transformed more than once during processing. You'll find in R that there is more than one way of doing the same analysis.\n",
        "\n",
        "In base R, due to the way it was developed, each analysis step or transformation of data must be saved as a separate object.\n",
        "\n",
        "But code can be made cleaner with fewer lines and possibly more efficient if fewer objects must be saved, through the use of ***pipes*** and naming conventions.\n",
        "\n",
        "Pipes (%>%) are used to tell R to perform operations on intermediate objects.\n",
        "\n",
        "We'll learn how to subset data using methods in basic R, then learn how to use pipes in ***tidyverse*** packages.\n",
        "\n",
        "In base R, suppose we want to create a smaller data frame with just the observations from a single site."
      ],
      "metadata": {
        "id": "huAefbru8ePl"
      }
    },
    {
      "cell_type": "code",
      "source": [
        "%%R\n",
        "print(levels(as.factor(swth$location)))\n",
        "#converts character string values to a factor variable, then prints unique values of the factor variable\n",
        "swthBigGrids<-swth[swth$location %in% c(\"BG-8-11\",\"BG-8-21\"),]\n",
        "print(nrow(swthBigGrids)) #prints the number of observations in the new, filtered data frame.\n",
        "#There are fewer observations than in the original data frame.\n",
        "print(ncol(swthBigGrids)) #prints the number of variables in the new, filtered data frame.\n",
        "#There are the same number of variables as in the original data frame"
      ],
      "metadata": {
        "id": "vuVpjVWOTq6Q",
        "colab": {
          "base_uri": "https://localhost:8080/"
        },
        "outputId": "3a1bd6d9-2c53-42dd-e269-9f6f4a4b8abb"
      },
      "execution_count": null,
      "outputs": [
        {
          "output_type": "stream",
          "name": "stdout",
          "text": [
            "[1] \"BG-8-11\"     \"BG-8-21\"     \"NWTI-3-7-NW\" \"RIVR-6-2\"   \n",
            "[1] 1785\n",
            "[1] 30\n"
          ]
        }
      ]
    },
    {
      "cell_type": "markdown",
      "source": [
        "To use tidyverse functions, we need to import a package called ***tidyverse***. Alternatively, we could import ***dplyr*** and ***tidyr***. Once imported, we'll use the ***filter*** function."
      ],
      "metadata": {
        "id": "J27U7ZjX1sQg"
      }
    },
    {
      "cell_type": "code",
      "source": [
        "%%R\n",
        "#install.packages(\"tidyverse\")  #alternatively, dplyr and tidyr\n",
        "library(tidyverse)  #alternatively, dplyr and tidyr\n",
        "swthBigGridsTidy<-swth%>%filter(location %in% c(\"BG-8-11\",\"BG-8-21\"),)\n",
        "print(nrow(swthBigGridsTidy)) #same number of observations in the new, filtered data frame\n",
        "#as in the filtered data frame created in base R.\n",
        "print(ncol(swthBigGridsTidy)) #same number of columns in the new, filtered data frame\n",
        "#as in the filtered data frame created in base R."
      ],
      "metadata": {
        "colab": {
          "base_uri": "https://localhost:8080/"
        },
        "id": "hpPGgeiH2H0o",
        "outputId": "a4ea0d1c-67d5-4123-fcb2-a0f33009c703"
      },
      "execution_count": null,
      "outputs": [
        {
          "output_type": "stream",
          "name": "stdout",
          "text": [
            "── Attaching core tidyverse packages ──────────────────────── tidyverse 2.0.0 ──\n",
            "✔ dplyr     1.1.3     ✔ readr     2.1.4\n",
            "✔ forcats   1.0.0     ✔ stringr   1.5.0\n",
            "✔ ggplot2   3.4.4     ✔ tibble    3.2.1\n",
            "✔ lubridate 1.9.3     ✔ tidyr     1.3.0\n",
            "✔ purrr     1.0.2     \n",
            "── Conflicts ────────────────────────────────────────── tidyverse_conflicts() ──\n",
            "✖ dplyr::filter() masks stats::filter()\n",
            "✖ dplyr::lag()    masks stats::lag()\n",
            "ℹ Use the conflicted package (<http://conflicted.r-lib.org/>) to force all conflicts to become errors\n",
            "[1] 1785\n",
            "[1] 30\n"
          ]
        }
      ]
    },
    {
      "cell_type": "markdown",
      "source": [
        "Let's make a data frame where some of the columns in ***swth*** have been dropped. In base R, there are a couple ways to do this."
      ],
      "metadata": {
        "id": "yP-PMd9I3Ezv"
      }
    },
    {
      "cell_type": "code",
      "source": [
        "%%R\n",
        "swthFewerVar<-swth  #creates a new data frame from swth.\n",
        "names(swthFewerVar)  #same variables as original data frame swth.\n",
        "swthFewerVar$species_scientific_name<-NULL  #remove individual variable from data frame\n",
        "swthFewerVar$tag_rating<-NULL  #remove individual variable from data frame\n",
        "swthFewerVar$task_method<-NULL  #remove individual variable from data frame\n",
        "names(swthFewerVar) #27 variables left: three variables dropped"
      ],
      "metadata": {
        "colab": {
          "base_uri": "https://localhost:8080/"
        },
        "id": "cH39ruPX3dv6",
        "outputId": "31c978dc-2b78-4d5c-c7e1-0ad64be60f4d"
      },
      "execution_count": null,
      "outputs": [
        {
          "output_type": "stream",
          "name": "stdout",
          "text": [
            " [1] \"organization\"                \"project_id\"                 \n",
            " [3] \"location\"                    \"location_id\"                \n",
            " [5] \"location_buffer_m\"           \"longitude\"                  \n",
            " [7] \"latitude\"                    \"equipment_make\"             \n",
            " [9] \"recording_id\"                \"recording_date_time\"        \n",
            "[11] \"task_id\"                     \"aru_task_status\"            \n",
            "[13] \"task_duration\"               \"species_code\"               \n",
            "[15] \"species_common_name\"         \"individual_order\"           \n",
            "[17] \"tag_id\"                      \"individual_count\"           \n",
            "[19] \"vocalization\"                \"detection_time\"             \n",
            "[21] \"tag_duration\"                \"rms_peak_dbfs\"              \n",
            "[23] \"tag_is_verified\"             \"observer\"                   \n",
            "[25] \"observer_user_id\"            \"species_individual_comments\"\n",
            "[27] \"task_comments\"              \n"
          ]
        }
      ]
    },
    {
      "cell_type": "code",
      "source": [
        "%%R\n",
        "names(swth)  #30 variables\n",
        "swthFewerVar2<-swth[,1:10]  #selects first 10 columns\n",
        "#requires that you know what column number your variable is.\n",
        "names(swthFewerVar2) #10 variables left: 20 variables dropped"
      ],
      "metadata": {
        "colab": {
          "base_uri": "https://localhost:8080/"
        },
        "id": "WvaHTZK94jdC",
        "outputId": "1cc7c5b1-ba61-49aa-e181-8875fe4744e2"
      },
      "execution_count": null,
      "outputs": [
        {
          "output_type": "stream",
          "name": "stdout",
          "text": [
            " [1] \"organization\"        \"project_id\"          \"location\"           \n",
            " [4] \"location_id\"         \"location_buffer_m\"   \"longitude\"          \n",
            " [7] \"latitude\"            \"equipment_make\"      \"recording_id\"       \n",
            "[10] \"recording_date_time\"\n"
          ]
        }
      ]
    },
    {
      "cell_type": "code",
      "source": [
        "%%R\n",
        "names(swth)  #30 variables\n",
        "swthFewerVar3<-swth[,-c(16:17)]  #selects all but columns 16 and 17\n",
        "#those columns refer to species_common_name and species_scientific_name\n",
        "#requires that you know what column number your variable is.\n",
        "names(swthFewerVar3) #28 variables left: species_common_name and species_scientific_name dropped"
      ],
      "metadata": {
        "colab": {
          "base_uri": "https://localhost:8080/"
        },
        "id": "VovSLM8Q7cAg",
        "outputId": "3ed94dcf-7810-4ef8-e17c-d73f0c1df24a"
      },
      "execution_count": null,
      "outputs": [
        {
          "output_type": "stream",
          "name": "stdout",
          "text": [
            " [1] \"organization\"                \"project_id\"                 \n",
            " [3] \"location\"                    \"location_id\"                \n",
            " [5] \"location_buffer_m\"           \"longitude\"                  \n",
            " [7] \"latitude\"                    \"equipment_make\"             \n",
            " [9] \"recording_id\"                \"recording_date_time\"        \n",
            "[11] \"task_id\"                     \"aru_task_status\"            \n",
            "[13] \"task_duration\"               \"task_method\"                \n",
            "[15] \"species_code\"                \"individual_order\"           \n",
            "[17] \"tag_id\"                      \"individual_count\"           \n",
            "[19] \"vocalization\"                \"detection_time\"             \n",
            "[21] \"tag_duration\"                \"rms_peak_dbfs\"              \n",
            "[23] \"tag_is_verified\"             \"tag_rating\"                 \n",
            "[25] \"observer\"                    \"observer_user_id\"           \n",
            "[27] \"species_individual_comments\" \"task_comments\"              \n"
          ]
        }
      ]
    },
    {
      "cell_type": "markdown",
      "source": [
        "And here's how you filter columns in ***tidyverse*** with the ***select*** command:"
      ],
      "metadata": {
        "id": "XiMy2sW18Fp4"
      }
    },
    {
      "cell_type": "code",
      "source": [
        "%%R\n",
        "names(swth)  #30 variables\n",
        "swthFewerVar4<-swth%>%select(organization,\n",
        "                             project_id,\n",
        "                             location,\n",
        "                             longitude,\n",
        "                             latitude,\n",
        "                             recording_id,\n",
        "                             recording_date_time,\n",
        "                             species_code,\n",
        "                             individual_order,\n",
        "                             individual_count,\n",
        "                             detection_time)\n",
        "#easier to select specific columns by name rather than number in different parts of the data frame\n",
        "names(swthFewerVar4)"
      ],
      "metadata": {
        "colab": {
          "base_uri": "https://localhost:8080/"
        },
        "id": "rFuVLn0p8NcX",
        "outputId": "6454978e-bae1-4e6f-8fde-5ef8f9bda44f"
      },
      "execution_count": null,
      "outputs": [
        {
          "output_type": "stream",
          "name": "stdout",
          "text": [
            " [1] \"organization\"        \"project_id\"          \"location\"           \n",
            " [4] \"longitude\"           \"latitude\"            \"recording_id\"       \n",
            " [7] \"recording_date_time\" \"species_code\"        \"individual_order\"   \n",
            "[10] \"individual_count\"    \"detection_time\"     \n"
          ]
        }
      ]
    },
    {
      "cell_type": "markdown",
      "source": [
        "What if you want to filter both rows and columns? In base R:"
      ],
      "metadata": {
        "id": "J_cta-Qn9UH8"
      }
    },
    {
      "cell_type": "code",
      "source": [
        "%%R\n",
        "swthBigGridsBasic<-swth[swth$location %in% c(\"BG-8-11\",\"BG-8-21\"),]\n",
        "#specific location values; all columns still selected\n",
        "swthBigGridsBasic2<-swthBigGridsBasic[,c(\"organization\",\"project_id\")]\n",
        "head(swthBigGridsBasic2)\n"
      ],
      "metadata": {
        "colab": {
          "base_uri": "https://localhost:8080/"
        },
        "id": "8whxI6pD9a_B",
        "outputId": "06a0f5ab-cc98-4d1c-da4c-1ce853726d61"
      },
      "execution_count": null,
      "outputs": [
        {
          "output_type": "stream",
          "name": "stdout",
          "text": [
            "  organization project_id\n",
            "1           BU        657\n",
            "2           BU        657\n",
            "3           BU        657\n",
            "4           BU        657\n",
            "5           BU        657\n",
            "6           BU        657\n"
          ]
        }
      ]
    },
    {
      "cell_type": "code",
      "source": [
        "#Or you could do this:\n",
        "%%R\n",
        "swthBigGridsBasicOtherWay<-swth[swth$location %in% c(\"BG-8-11\",\"BG-8-21\"),c(\"organization\",\"project_id\")]\n",
        "head(swthBigGridsBasicOtherWay)"
      ],
      "metadata": {
        "colab": {
          "base_uri": "https://localhost:8080/"
        },
        "id": "5EWgZtcM-Txi",
        "outputId": "4b7e2c68-e8bb-42fa-e3a6-45fe2c35fe09"
      },
      "execution_count": null,
      "outputs": [
        {
          "output_type": "stream",
          "name": "stdout",
          "text": [
            "  organization project_id\n",
            "1           BU        657\n",
            "2           BU        657\n",
            "3           BU        657\n",
            "4           BU        657\n",
            "5           BU        657\n",
            "6           BU        657\n"
          ]
        }
      ]
    },
    {
      "cell_type": "markdown",
      "source": [
        "Using the ***filter*** and ***select*** commands with pipes:"
      ],
      "metadata": {
        "id": "4dxpfTfw-rsy"
      }
    },
    {
      "cell_type": "code",
      "source": [
        "%%R\n",
        "swthBigGridsTidy<-swth%>%\n",
        "filter(location %in% c(\"BG-8-11\",\"BG-8-21\"))%>%\n",
        "select(organization,\n",
        "       project_id,\n",
        "       latitude,\n",
        "       longitude,\n",
        "       individual_count,\n",
        "       individual_order,\n",
        "       recording_id,\n",
        "       recording_date_time)\n",
        "head(swthBigGridsTidy)"
      ],
      "metadata": {
        "colab": {
          "base_uri": "https://localhost:8080/"
        },
        "id": "LkYn5gtE-ySP",
        "outputId": "c08545a6-8b96-4ec5-ce5d-d3d659fdd8ae"
      },
      "execution_count": null,
      "outputs": [
        {
          "output_type": "stream",
          "name": "stdout",
          "text": [
            "  organization project_id latitude longitude individual_count individual_order\n",
            "1           BU        657 59.41171 -122.1562                1                1\n",
            "2           BU        657 59.41171 -122.1562               NA               NA\n",
            "3           BU        657 59.41171 -122.1562               NA               NA\n",
            "4           BU        657 59.41171 -122.1562               NA               NA\n",
            "5           BU        657 59.41171 -122.1562               NA               NA\n",
            "6           BU        657 59.41171 -122.1562               NA               NA\n",
            "  recording_id recording_date_time\n",
            "1       204078 2016-06-10 15:00:00\n",
            "2       203990 2016-06-10 22:23:00\n",
            "3       203589 2016-06-10 23:23:00\n",
            "4       204027 2016-06-11 02:00:00\n",
            "5       203732 2016-06-11 02:23:00\n",
            "6       203903 2016-06-11 03:23:00\n"
          ]
        }
      ]
    },
    {
      "cell_type": "markdown",
      "source": [
        "You can use Boolean operations (==, !, >, <) in filtering in base R and ***tidyverse***."
      ],
      "metadata": {
        "id": "O7QhacAI_etE"
      }
    },
    {
      "cell_type": "code",
      "source": [
        "%%R\n",
        "NoMissingValues_Basic<-swth[!is.na(swth$detection_time),]\n",
        "print(nrow(NoMissingValues_Basic)) #fewer observations than original data frame\n",
        "print(names(NoMissingValues_Basic)) #same 30 columns as original data frame\n",
        "print(head(NoMissingValues_Basic$detection_time, n=100))\n",
        "#first 100 values of detection_time; none missing"
      ],
      "metadata": {
        "colab": {
          "base_uri": "https://localhost:8080/"
        },
        "id": "0cJ19QxP_zxq",
        "outputId": "43dbc94b-5037-42db-918a-4d7a6e152109"
      },
      "execution_count": null,
      "outputs": [
        {
          "output_type": "stream",
          "name": "stdout",
          "text": [
            "[1] 3522\n",
            " [1] \"organization\"                \"project_id\"                 \n",
            " [3] \"location\"                    \"location_id\"                \n",
            " [5] \"location_buffer_m\"           \"longitude\"                  \n",
            " [7] \"latitude\"                    \"equipment_make\"             \n",
            " [9] \"recording_id\"                \"recording_date_time\"        \n",
            "[11] \"task_id\"                     \"aru_task_status\"            \n",
            "[13] \"task_duration\"               \"task_method\"                \n",
            "[15] \"species_code\"                \"species_common_name\"        \n",
            "[17] \"species_scientific_name\"     \"individual_order\"           \n",
            "[19] \"tag_id\"                      \"individual_count\"           \n",
            "[21] \"vocalization\"                \"detection_time\"             \n",
            "[23] \"tag_duration\"                \"rms_peak_dbfs\"              \n",
            "[25] \"tag_is_verified\"             \"tag_rating\"                 \n",
            "[27] \"observer\"                    \"observer_user_id\"           \n",
            "[29] \"species_individual_comments\" \"task_comments\"              \n",
            "  [1]  0.03  2.13  0.41  0.10  0.05  1.83  0.16 19.88 34.49  7.60 47.75 12.15\n",
            " [13] 52.56 38.59 24.44  5.61 13.90 19.65  9.19 38.11 42.50 55.70 31.88  4.15\n",
            " [25] 24.05 18.50 36.70 11.76 53.08 16.56 35.00 25.25  7.51  1.54 49.03  2.63\n",
            " [37]  0.10 33.13 26.39  0.46 50.43 40.13  0.11  0.03  2.31  0.05  0.58  0.09\n",
            " [49]  0.15 51.08 48.06 23.66 53.60  0.41  4.90 14.90 19.91 26.41 32.41 44.24\n",
            " [61] 37.10 29.18 30.68 58.75 42.30 49.35 10.30 46.50 28.38 17.00 55.31  0.93\n",
            " [73] 43.33 19.40 28.10  1.73 36.71 28.04 21.91 13.74 23.79 46.66  6.75 32.88\n",
            " [85] 16.74 48.46 24.90 40.40  8.98 56.90  0.05 58.74 22.39 11.80  2.54 50.44\n",
            " [97]  0.03  0.08  0.06  8.00\n"
          ]
        }
      ]
    },
    {
      "cell_type": "code",
      "source": [
        "%%R\n",
        "NoMissingValues_Tidy<-swth%>%\n",
        "filter(!is.na(detection_time))\n",
        "print(nrow(NoMissingValues_Tidy)) #fewer observations than original data frame\n",
        "print(names(NoMissingValues_Tidy)) #same 30 columns as original data frame\n",
        "print(head(NoMissingValues_Tidy$detection_time, n=100))\n",
        "#first 100 values of detection_time; none missing"
      ],
      "metadata": {
        "colab": {
          "base_uri": "https://localhost:8080/"
        },
        "id": "0jFA3NP7AolN",
        "outputId": "94e9aa18-b56e-4ad1-a652-25b977c24d1a"
      },
      "execution_count": null,
      "outputs": [
        {
          "output_type": "stream",
          "name": "stdout",
          "text": [
            "[1] 3522\n",
            " [1] \"organization\"                \"project_id\"                 \n",
            " [3] \"location\"                    \"location_id\"                \n",
            " [5] \"location_buffer_m\"           \"longitude\"                  \n",
            " [7] \"latitude\"                    \"equipment_make\"             \n",
            " [9] \"recording_id\"                \"recording_date_time\"        \n",
            "[11] \"task_id\"                     \"aru_task_status\"            \n",
            "[13] \"task_duration\"               \"task_method\"                \n",
            "[15] \"species_code\"                \"species_common_name\"        \n",
            "[17] \"species_scientific_name\"     \"individual_order\"           \n",
            "[19] \"tag_id\"                      \"individual_count\"           \n",
            "[21] \"vocalization\"                \"detection_time\"             \n",
            "[23] \"tag_duration\"                \"rms_peak_dbfs\"              \n",
            "[25] \"tag_is_verified\"             \"tag_rating\"                 \n",
            "[27] \"observer\"                    \"observer_user_id\"           \n",
            "[29] \"species_individual_comments\" \"task_comments\"              \n",
            "  [1]  0.03  2.13  0.41  0.10  0.05  1.83  0.16 19.88 34.49  7.60 47.75 12.15\n",
            " [13] 52.56 38.59 24.44  5.61 13.90 19.65  9.19 38.11 42.50 55.70 31.88  4.15\n",
            " [25] 24.05 18.50 36.70 11.76 53.08 16.56 35.00 25.25  7.51  1.54 49.03  2.63\n",
            " [37]  0.10 33.13 26.39  0.46 50.43 40.13  0.11  0.03  2.31  0.05  0.58  0.09\n",
            " [49]  0.15 51.08 48.06 23.66 53.60  0.41  4.90 14.90 19.91 26.41 32.41 44.24\n",
            " [61] 37.10 29.18 30.68 58.75 42.30 49.35 10.30 46.50 28.38 17.00 55.31  0.93\n",
            " [73] 43.33 19.40 28.10  1.73 36.71 28.04 21.91 13.74 23.79 46.66  6.75 32.88\n",
            " [85] 16.74 48.46 24.90 40.40  8.98 56.90  0.05 58.74 22.39 11.80  2.54 50.44\n",
            " [97]  0.03  0.08  0.06  8.00\n"
          ]
        }
      ]
    },
    {
      "cell_type": "code",
      "source": [
        "%%R\n",
        "EarlyDetections_Basic<-swth[swth$detection_time<30,]\n",
        "EarlyDetections_Basic2<-EarlyDetections_Basic[!is.na(EarlyDetections_Basic$detection_time),]\n",
        "#only detections from first 30 seconds of each recording\n",
        "print(nrow(EarlyDetections_Basic2)) #fewer observations than original data frame\n",
        "print(names(EarlyDetections_Basic2)) #same 30 columns as original data frame\n",
        "print(head(EarlyDetections_Basic2$detection_time, n=100))\n",
        "#first 100 values of detection_time; none missing; all values < 30"
      ],
      "metadata": {
        "colab": {
          "base_uri": "https://localhost:8080/"
        },
        "id": "pRQJ5KbwBHtF",
        "outputId": "90441ba0-a6d0-4b39-f20b-ef6108e3229f"
      },
      "execution_count": null,
      "outputs": [
        {
          "output_type": "stream",
          "name": "stdout",
          "text": [
            "[1] 2259\n",
            " [1] \"organization\"                \"project_id\"                 \n",
            " [3] \"location\"                    \"location_id\"                \n",
            " [5] \"location_buffer_m\"           \"longitude\"                  \n",
            " [7] \"latitude\"                    \"equipment_make\"             \n",
            " [9] \"recording_id\"                \"recording_date_time\"        \n",
            "[11] \"task_id\"                     \"aru_task_status\"            \n",
            "[13] \"task_duration\"               \"task_method\"                \n",
            "[15] \"species_code\"                \"species_common_name\"        \n",
            "[17] \"species_scientific_name\"     \"individual_order\"           \n",
            "[19] \"tag_id\"                      \"individual_count\"           \n",
            "[21] \"vocalization\"                \"detection_time\"             \n",
            "[23] \"tag_duration\"                \"rms_peak_dbfs\"              \n",
            "[25] \"tag_is_verified\"             \"tag_rating\"                 \n",
            "[27] \"observer\"                    \"observer_user_id\"           \n",
            "[29] \"species_individual_comments\" \"task_comments\"              \n",
            "  [1]  0.03  2.13  0.41  0.10  0.05  1.83  0.16 19.88  7.60 12.15 24.44  5.61\n",
            " [13] 13.90 19.65  9.19  4.15 24.05 18.50 11.76 16.56 25.25  7.51  1.54  2.63\n",
            " [25]  0.10 26.39  0.46  0.11  0.03  2.31  0.05  0.58  0.09  0.15 23.66  0.41\n",
            " [37]  4.90 14.90 19.91 26.41 29.18 10.30 28.38 17.00  0.93 19.40 28.10  1.73\n",
            " [49] 28.04 21.91 13.74 23.79  6.75 16.74 24.90  8.98  0.05 22.39 11.80  2.54\n",
            " [61]  0.03  0.08  0.06  8.00 22.30 29.83 15.70  0.90  2.09 11.46 26.30 20.83\n",
            " [73] 14.19 17.30 24.01  8.53  2.18  0.04  2.25  1.80  0.11  0.04 17.95 24.51\n",
            " [85] 19.00  4.88 11.84 23.11  1.94  0.03  0.05  0.83 14.31  0.13  1.94 10.05\n",
            " [97]  0.08 29.41  0.18 20.41\n"
          ]
        }
      ]
    },
    {
      "cell_type": "code",
      "source": [
        "%%R\n",
        "EarlyDetections_Tidy<-swth%>%\n",
        "filter(!is.na(detection_time))%>%\n",
        "filter(detection_time<30)\n",
        "#only detections from first 30 seconds of each recording\n",
        "print(nrow(EarlyDetections_Tidy)) #fewer observations than original data frame\n",
        "print(names(EarlyDetections_Tidy)) #same 30 columns as original data frame\n",
        "print(head(EarlyDetections_Tidy$detection_time, n=100))\n",
        "#first 100 values of detection_time; none missing; all values < 30"
      ],
      "metadata": {
        "colab": {
          "base_uri": "https://localhost:8080/"
        },
        "id": "wv2mkwVZB-ZZ",
        "outputId": "6f6b13e0-886a-42f3-b622-b17a4c3eab36"
      },
      "execution_count": null,
      "outputs": [
        {
          "output_type": "stream",
          "name": "stdout",
          "text": [
            "[1] 2259\n",
            " [1] \"organization\"                \"project_id\"                 \n",
            " [3] \"location\"                    \"location_id\"                \n",
            " [5] \"location_buffer_m\"           \"longitude\"                  \n",
            " [7] \"latitude\"                    \"equipment_make\"             \n",
            " [9] \"recording_id\"                \"recording_date_time\"        \n",
            "[11] \"task_id\"                     \"aru_task_status\"            \n",
            "[13] \"task_duration\"               \"task_method\"                \n",
            "[15] \"species_code\"                \"species_common_name\"        \n",
            "[17] \"species_scientific_name\"     \"individual_order\"           \n",
            "[19] \"tag_id\"                      \"individual_count\"           \n",
            "[21] \"vocalization\"                \"detection_time\"             \n",
            "[23] \"tag_duration\"                \"rms_peak_dbfs\"              \n",
            "[25] \"tag_is_verified\"             \"tag_rating\"                 \n",
            "[27] \"observer\"                    \"observer_user_id\"           \n",
            "[29] \"species_individual_comments\" \"task_comments\"              \n",
            "  [1]  0.03  2.13  0.41  0.10  0.05  1.83  0.16 19.88  7.60 12.15 24.44  5.61\n",
            " [13] 13.90 19.65  9.19  4.15 24.05 18.50 11.76 16.56 25.25  7.51  1.54  2.63\n",
            " [25]  0.10 26.39  0.46  0.11  0.03  2.31  0.05  0.58  0.09  0.15 23.66  0.41\n",
            " [37]  4.90 14.90 19.91 26.41 29.18 10.30 28.38 17.00  0.93 19.40 28.10  1.73\n",
            " [49] 28.04 21.91 13.74 23.79  6.75 16.74 24.90  8.98  0.05 22.39 11.80  2.54\n",
            " [61]  0.03  0.08  0.06  8.00 22.30 29.83 15.70  0.90  2.09 11.46 26.30 20.83\n",
            " [73] 14.19 17.30 24.01  8.53  2.18  0.04  2.25  1.80  0.11  0.04 17.95 24.51\n",
            " [85] 19.00  4.88 11.84 23.11  1.94  0.03  0.05  0.83 14.31  0.13  1.94 10.05\n",
            " [97]  0.08 29.41  0.18 20.41\n"
          ]
        }
      ]
    },
    {
      "cell_type": "markdown",
      "source": [
        "You should be starting to notice that using ***tidyverse*** functions, you can run multiple analysis steps on a single line, while it might require or be easier to write a separate line for each analysis step in base R.\n",
        "\n",
        "You may also be figuring out that when including **!** in a Boolean expression when filtering observations, the exclamation mark means the negative of the Boolean expression, e.g., ***!is.na()*** means *is **NOT** missing*.\n",
        "\n",
        "One more example of using Boolean expressions when filtering in base R or ***tidyverse***: the double equal sign **==**."
      ],
      "metadata": {
        "id": "mjTHq5qiCY1w"
      }
    },
    {
      "cell_type": "code",
      "source": [
        "%%R\n",
        "FirstBirdDetections_Basic<-swth[swth$species_code==\"SWTH\",]\n",
        "#select only detections of Swainson's Thrush, not other species.\n",
        "FirstBirdDetections_Basic2<-FirstBirdDetections_Basic[FirstBirdDetections_Basic$individual_order==1,]\n",
        "#value assigned to the first individual of each transcribed species in a recording\n",
        "print(nrow(FirstBirdDetections_Basic2)) #fewer observations than original data frame\n",
        "print(names(FirstBirdDetections_Basic2)) #same 30 columns as original data frame\n",
        "print(head(FirstBirdDetections_Basic2$detection_time, n=100))\n",
        "#first 100 values of detection_time for the first Swainson's Thrush in any recording; none missing"
      ],
      "metadata": {
        "colab": {
          "base_uri": "https://localhost:8080/"
        },
        "id": "8dMAIVvDDcI_",
        "outputId": "bd3c74ae-4ccd-47e7-d3f2-7d84fcf779ba"
      },
      "execution_count": null,
      "outputs": [
        {
          "output_type": "stream",
          "name": "stdout",
          "text": [
            "[1] 1852\n",
            " [1] \"organization\"                \"project_id\"                 \n",
            " [3] \"location\"                    \"location_id\"                \n",
            " [5] \"location_buffer_m\"           \"longitude\"                  \n",
            " [7] \"latitude\"                    \"equipment_make\"             \n",
            " [9] \"recording_id\"                \"recording_date_time\"        \n",
            "[11] \"task_id\"                     \"aru_task_status\"            \n",
            "[13] \"task_duration\"               \"task_method\"                \n",
            "[15] \"species_code\"                \"species_common_name\"        \n",
            "[17] \"species_scientific_name\"     \"individual_order\"           \n",
            "[19] \"tag_id\"                      \"individual_count\"           \n",
            "[21] \"vocalization\"                \"detection_time\"             \n",
            "[23] \"tag_duration\"                \"rms_peak_dbfs\"              \n",
            "[25] \"tag_is_verified\"             \"tag_rating\"                 \n",
            "[27] \"observer\"                    \"observer_user_id\"           \n",
            "[29] \"species_individual_comments\" \"task_comments\"              \n",
            "  [1] 19.88 34.49  7.60 47.75 12.15 52.56 38.59 24.44  5.61 13.90 19.65  9.19\n",
            " [13] 38.11 42.50 55.70 49.03  2.63  0.10 33.13 26.39 50.43 40.13 48.06 23.66\n",
            " [25] 53.60  0.41  4.90 14.90 19.91 26.41 32.41 42.30 49.35 10.30 46.50 28.38\n",
            " [37] 17.00 55.31  0.93 43.33 19.40 28.10  1.73 32.88 16.74 48.46 24.90 40.40\n",
            " [49]  8.98 56.90 58.74 22.39 11.80  2.54 50.44  8.00 42.96 22.30 29.83 37.34\n",
            " [61] 52.34 15.70  0.90 49.03 56.01 37.74 32.55 11.46 42.95 30.14 26.30 20.83\n",
            " [73] 14.19 17.30 24.01  8.53 46.51 58.63 51.88 34.55 39.51 39.48 34.89 17.95\n",
            " [85] 48.89 53.00  4.88 11.84 23.11  0.83 14.31 54.58  1.94 46.84 10.05 29.41\n",
            " [97]  0.18 38.95 49.91 44.33\n"
          ]
        }
      ]
    },
    {
      "cell_type": "code",
      "source": [
        "%%R\n",
        "FirstBirdDetections_Tidy<-swth%>%\n",
        "filter(species_code==\"SWTH\")%>%\n",
        "filter(individual_order==1)\n",
        "print(nrow(FirstBirdDetections_Tidy)) #fewer observations than original data frame\n",
        "print(names(FirstBirdDetections_Tidy)) #same 30 columns as original data frame\n",
        "print(head(FirstBirdDetections_Tidy$detection_time, n=100))\n",
        "#first 100 values of detection_time for the first Swainson's Thrush in any recording; none missing"
      ],
      "metadata": {
        "colab": {
          "base_uri": "https://localhost:8080/"
        },
        "id": "-GWiuCsuEwRb",
        "outputId": "e472092f-7744-4d85-c755-bbc01dd6d2df"
      },
      "execution_count": null,
      "outputs": [
        {
          "output_type": "stream",
          "name": "stdout",
          "text": [
            "[1] 1852\n",
            " [1] \"organization\"                \"project_id\"                 \n",
            " [3] \"location\"                    \"location_id\"                \n",
            " [5] \"location_buffer_m\"           \"longitude\"                  \n",
            " [7] \"latitude\"                    \"equipment_make\"             \n",
            " [9] \"recording_id\"                \"recording_date_time\"        \n",
            "[11] \"task_id\"                     \"aru_task_status\"            \n",
            "[13] \"task_duration\"               \"task_method\"                \n",
            "[15] \"species_code\"                \"species_common_name\"        \n",
            "[17] \"species_scientific_name\"     \"individual_order\"           \n",
            "[19] \"tag_id\"                      \"individual_count\"           \n",
            "[21] \"vocalization\"                \"detection_time\"             \n",
            "[23] \"tag_duration\"                \"rms_peak_dbfs\"              \n",
            "[25] \"tag_is_verified\"             \"tag_rating\"                 \n",
            "[27] \"observer\"                    \"observer_user_id\"           \n",
            "[29] \"species_individual_comments\" \"task_comments\"              \n",
            "  [1] 19.88 34.49  7.60 47.75 12.15 52.56 38.59 24.44  5.61 13.90 19.65  9.19\n",
            " [13] 38.11 42.50 55.70 49.03  2.63  0.10 33.13 26.39 50.43 40.13 48.06 23.66\n",
            " [25] 53.60  0.41  4.90 14.90 19.91 26.41 32.41 42.30 49.35 10.30 46.50 28.38\n",
            " [37] 17.00 55.31  0.93 43.33 19.40 28.10  1.73 32.88 16.74 48.46 24.90 40.40\n",
            " [49]  8.98 56.90 58.74 22.39 11.80  2.54 50.44  8.00 42.96 22.30 29.83 37.34\n",
            " [61] 52.34 15.70  0.90 49.03 56.01 37.74 32.55 11.46 42.95 30.14 26.30 20.83\n",
            " [73] 14.19 17.30 24.01  8.53 46.51 58.63 51.88 34.55 39.51 39.48 34.89 17.95\n",
            " [85] 48.89 53.00  4.88 11.84 23.11  0.83 14.31 54.58  1.94 46.84 10.05 29.41\n",
            " [97]  0.18 38.95 49.91 44.33\n"
          ]
        }
      ]
    },
    {
      "cell_type": "markdown",
      "source": [
        "By now, you may have noticed another potential advantage of using ***tidyverse*** functions: not only fewer lines of code but less text required for the code you are writing."
      ],
      "metadata": {
        "id": "mj8zFn6WFMpK"
      }
    },
    {
      "cell_type": "markdown",
      "source": [
        "##Learning Outcome: Manipulate data and create new variables in Colab, using functions in base R and ***tidyverse*** packages.\n",
        "\n",
        "###Sorting data"
      ],
      "metadata": {
        "id": "tVNkw6RM8r4V"
      }
    },
    {
      "cell_type": "code",
      "source": [
        "%%R\n",
        "Ord1 <- order(swth$detection_time)\n",
        "#sorts dataframe \"swth\" by values in the variable \"detection_time\"\n",
        "#\"detection_time\" = number of seconds into each recording when a Swainson's Thrush\n",
        "#detection is made. For recordings without Swainson's Thrush, value = NA.\n",
        "head(swth[Ord1,]$detection_time, n=200)\n",
        "#prints (but does not save) dataframe \"swth\" in order of values in \"detection_time\""
      ],
      "metadata": {
        "colab": {
          "base_uri": "https://localhost:8080/"
        },
        "id": "0h6y6u8EMUfe",
        "outputId": "c8cf9470-5416-478a-d6c4-7746d77a2b54"
      },
      "execution_count": null,
      "outputs": [
        {
          "output_type": "stream",
          "name": "stdout",
          "text": [
            "  [1] 0.00 0.00 0.00 0.00 0.00 0.00 0.00 0.00 0.00 0.00 0.00 0.00 0.00 0.00 0.00\n",
            " [16] 0.00 0.00 0.00 0.00 0.01 0.01 0.01 0.01 0.01 0.01 0.01 0.01 0.01 0.01 0.01\n",
            " [31] 0.01 0.01 0.01 0.01 0.01 0.01 0.01 0.01 0.01 0.01 0.01 0.01 0.01 0.01 0.01\n",
            " [46] 0.01 0.01 0.01 0.01 0.03 0.03 0.03 0.03 0.03 0.03 0.03 0.03 0.03 0.03 0.03\n",
            " [61] 0.03 0.03 0.03 0.03 0.03 0.03 0.03 0.03 0.03 0.03 0.03 0.03 0.03 0.03 0.03\n",
            " [76] 0.03 0.03 0.03 0.03 0.03 0.03 0.03 0.03 0.03 0.03 0.03 0.03 0.03 0.03 0.03\n",
            " [91] 0.03 0.03 0.03 0.03 0.03 0.03 0.03 0.03 0.03 0.03 0.03 0.03 0.03 0.03 0.03\n",
            "[106] 0.03 0.03 0.03 0.04 0.04 0.04 0.04 0.04 0.04 0.04 0.04 0.04 0.04 0.04 0.04\n",
            "[121] 0.04 0.04 0.04 0.04 0.04 0.04 0.04 0.04 0.04 0.04 0.04 0.04 0.04 0.04 0.04\n",
            "[136] 0.04 0.04 0.04 0.04 0.04 0.04 0.04 0.04 0.04 0.04 0.04 0.04 0.04 0.04 0.04\n",
            "[151] 0.04 0.04 0.04 0.04 0.04 0.04 0.04 0.04 0.04 0.04 0.04 0.04 0.04 0.04 0.04\n",
            "[166] 0.04 0.04 0.04 0.04 0.04 0.04 0.05 0.05 0.05 0.05 0.05 0.05 0.05 0.05 0.05\n",
            "[181] 0.05 0.05 0.05 0.05 0.05 0.05 0.05 0.05 0.05 0.05 0.05 0.05 0.05 0.05 0.05\n",
            "[196] 0.05 0.05 0.05 0.05 0.05\n"
          ]
        }
      ]
    },
    {
      "cell_type": "markdown",
      "source": [
        "We can see that the order of values according to detection time isn't currently saved in the data frame if we don't include the ordering as part of the command. If the ordering is included, NA values appear at the end of the series."
      ],
      "metadata": {
        "id": "D4LvaHfZNk05"
      }
    },
    {
      "cell_type": "code",
      "source": [
        "%%R\n",
        "head(swth$detection_time, n=200)"
      ],
      "metadata": {
        "colab": {
          "base_uri": "https://localhost:8080/"
        },
        "id": "3NrAfYeTN2Qj",
        "outputId": "c10ee3a2-0ea7-44c8-90ee-c2b428822571"
      },
      "execution_count": null,
      "outputs": [
        {
          "output_type": "stream",
          "name": "stdout",
          "text": [
            "  [1]  0.03    NA    NA    NA    NA    NA    NA  2.13  0.41  0.10  0.05    NA\n",
            " [13]    NA  1.83    NA    NA  0.16 19.88 34.49  7.60 47.75 12.15 52.56 38.59\n",
            " [25] 24.44    NA    NA    NA  5.61 13.90 19.65  9.19 38.11 42.50 55.70 31.88\n",
            " [37]  4.15 24.05 18.50 36.70 11.76 53.08 16.56 35.00 25.25  7.51  1.54 49.03\n",
            " [49]  2.63  0.10 33.13 26.39    NA    NA  0.46    NA 50.43 40.13    NA    NA\n",
            " [61]  0.11    NA    NA  0.03    NA    NA    NA  2.31  0.05  0.58    NA  0.09\n",
            " [73]    NA    NA  0.15    NA 51.08 48.06 23.66 53.60  0.41  4.90 14.90 19.91\n",
            " [85] 26.41 32.41 44.24 37.10 29.18 30.68 58.75 42.30 49.35 10.30 46.50 28.38\n",
            " [97] 17.00 55.31  0.93 43.33 19.40 28.10    NA  1.73 36.71 28.04 21.91 13.74\n",
            "[109] 23.79 46.66  6.75 32.88 16.74 48.46 24.90 40.40  8.98 56.90    NA  0.05\n",
            "[121]    NA 58.74 22.39 11.80  2.54 50.44  0.03    NA    NA  0.08    NA    NA\n",
            "[133]    NA  0.06    NA  8.00 42.96 22.30 29.83 37.34 52.34 15.70  0.90    NA\n",
            "[145]  2.09    NA 49.03 56.01 37.74 32.55 11.46 42.95 30.14 26.30 20.83 14.19\n",
            "[157] 17.30 24.01  8.53 46.51 58.63 51.88 34.55 39.51    NA    NA  2.18    NA\n",
            "[169]  0.04  2.25  1.80  0.11    NA  0.04    NA    NA 39.48 52.05 46.70 30.43\n",
            "[181] 34.89 58.26 17.95 24.51 19.00 48.89 53.00  4.88 11.84 23.11    NA    NA\n",
            "[193]    NA    NA    NA  1.94    NA    NA  0.03    NA\n"
          ]
        }
      ]
    },
    {
      "cell_type": "markdown",
      "source": [
        "To save observations in a specific order, we have to create a new data frame:"
      ],
      "metadata": {
        "id": "-sw2tO76OMR7"
      }
    },
    {
      "cell_type": "code",
      "source": [
        "%%R\n",
        "swthDetectionTime<-swth[Ord1,]\n",
        "#saves the data inside \"swth\", ordered by detection time in a new object \"swthDetectionTime\"\n",
        "head(swthDetectionTime$detection_time, n=200)"
      ],
      "metadata": {
        "colab": {
          "base_uri": "https://localhost:8080/"
        },
        "id": "VHwyna-XOViu",
        "outputId": "ae85e7eb-6253-4237-92a8-ee6cf0fc37e4"
      },
      "execution_count": null,
      "outputs": [
        {
          "output_type": "stream",
          "name": "stdout",
          "text": [
            "  [1] 0.00 0.00 0.00 0.00 0.00 0.00 0.00 0.00 0.00 0.00 0.00 0.00 0.00 0.00 0.00\n",
            " [16] 0.00 0.00 0.00 0.00 0.01 0.01 0.01 0.01 0.01 0.01 0.01 0.01 0.01 0.01 0.01\n",
            " [31] 0.01 0.01 0.01 0.01 0.01 0.01 0.01 0.01 0.01 0.01 0.01 0.01 0.01 0.01 0.01\n",
            " [46] 0.01 0.01 0.01 0.01 0.03 0.03 0.03 0.03 0.03 0.03 0.03 0.03 0.03 0.03 0.03\n",
            " [61] 0.03 0.03 0.03 0.03 0.03 0.03 0.03 0.03 0.03 0.03 0.03 0.03 0.03 0.03 0.03\n",
            " [76] 0.03 0.03 0.03 0.03 0.03 0.03 0.03 0.03 0.03 0.03 0.03 0.03 0.03 0.03 0.03\n",
            " [91] 0.03 0.03 0.03 0.03 0.03 0.03 0.03 0.03 0.03 0.03 0.03 0.03 0.03 0.03 0.03\n",
            "[106] 0.03 0.03 0.03 0.04 0.04 0.04 0.04 0.04 0.04 0.04 0.04 0.04 0.04 0.04 0.04\n",
            "[121] 0.04 0.04 0.04 0.04 0.04 0.04 0.04 0.04 0.04 0.04 0.04 0.04 0.04 0.04 0.04\n",
            "[136] 0.04 0.04 0.04 0.04 0.04 0.04 0.04 0.04 0.04 0.04 0.04 0.04 0.04 0.04 0.04\n",
            "[151] 0.04 0.04 0.04 0.04 0.04 0.04 0.04 0.04 0.04 0.04 0.04 0.04 0.04 0.04 0.04\n",
            "[166] 0.04 0.04 0.04 0.04 0.04 0.04 0.05 0.05 0.05 0.05 0.05 0.05 0.05 0.05 0.05\n",
            "[181] 0.05 0.05 0.05 0.05 0.05 0.05 0.05 0.05 0.05 0.05 0.05 0.05 0.05 0.05 0.05\n",
            "[196] 0.05 0.05 0.05 0.05 0.05\n"
          ]
        }
      ]
    },
    {
      "cell_type": "markdown",
      "source": [
        "Here is another way of ordering a data frame, using the function ***arrange()*** with ***pipes*** (%>%) in the ***tidyverse***."
      ],
      "metadata": {
        "id": "IYboBY-KO9bK"
      }
    },
    {
      "cell_type": "code",
      "source": [
        "%%R\n",
        "swthTidy<-swth%>%arrange(detection_time)\n",
        "head(swthTidy$detection_time, n=200)\n"
      ],
      "metadata": {
        "colab": {
          "base_uri": "https://localhost:8080/"
        },
        "id": "FSbnIHzKPRJv",
        "outputId": "7832cbf8-708b-4752-e8cf-feb5bca1e467"
      },
      "execution_count": null,
      "outputs": [
        {
          "output_type": "stream",
          "name": "stdout",
          "text": [
            "  [1] 0.00 0.00 0.00 0.00 0.00 0.00 0.00 0.00 0.00 0.00 0.00 0.00 0.00 0.00 0.00\n",
            " [16] 0.00 0.00 0.00 0.00 0.01 0.01 0.01 0.01 0.01 0.01 0.01 0.01 0.01 0.01 0.01\n",
            " [31] 0.01 0.01 0.01 0.01 0.01 0.01 0.01 0.01 0.01 0.01 0.01 0.01 0.01 0.01 0.01\n",
            " [46] 0.01 0.01 0.01 0.01 0.03 0.03 0.03 0.03 0.03 0.03 0.03 0.03 0.03 0.03 0.03\n",
            " [61] 0.03 0.03 0.03 0.03 0.03 0.03 0.03 0.03 0.03 0.03 0.03 0.03 0.03 0.03 0.03\n",
            " [76] 0.03 0.03 0.03 0.03 0.03 0.03 0.03 0.03 0.03 0.03 0.03 0.03 0.03 0.03 0.03\n",
            " [91] 0.03 0.03 0.03 0.03 0.03 0.03 0.03 0.03 0.03 0.03 0.03 0.03 0.03 0.03 0.03\n",
            "[106] 0.03 0.03 0.03 0.04 0.04 0.04 0.04 0.04 0.04 0.04 0.04 0.04 0.04 0.04 0.04\n",
            "[121] 0.04 0.04 0.04 0.04 0.04 0.04 0.04 0.04 0.04 0.04 0.04 0.04 0.04 0.04 0.04\n",
            "[136] 0.04 0.04 0.04 0.04 0.04 0.04 0.04 0.04 0.04 0.04 0.04 0.04 0.04 0.04 0.04\n",
            "[151] 0.04 0.04 0.04 0.04 0.04 0.04 0.04 0.04 0.04 0.04 0.04 0.04 0.04 0.04 0.04\n",
            "[166] 0.04 0.04 0.04 0.04 0.04 0.04 0.05 0.05 0.05 0.05 0.05 0.05 0.05 0.05 0.05\n",
            "[181] 0.05 0.05 0.05 0.05 0.05 0.05 0.05 0.05 0.05 0.05 0.05 0.05 0.05 0.05 0.05\n",
            "[196] 0.05 0.05 0.05 0.05 0.05\n"
          ]
        }
      ]
    },
    {
      "cell_type": "markdown",
      "source": [
        "###Creating New Variables\n",
        "\n",
        "Create a new variable called *Early* based on whether a detection of a song occurred in the first 30 seconds of the recording. If a song was detected after the first 30 seconds or no song was detected, *Early* equals 0; otherwise, *Early* equals 1."
      ],
      "metadata": {
        "id": "sketYKoNGe_F"
      }
    },
    {
      "cell_type": "code",
      "source": [
        "%%R\n",
        "swth$Early_Basic<-ifelse(swth$detection_time<30,1,0)\n",
        "print(head(swth$Early_Basic, n=200))\n",
        "print(\"NA values still present\")\n",
        "swth$Early_BasicNoNA<-ifelse(is.na(swth$detection_time),0,\n",
        "                             ifelse(swth$detection_time>30,0,1))\n",
        "print(head(swth$Early_BasicNoNA, n=200))\n",
        "print(\"NA values set to zero\")"
      ],
      "metadata": {
        "colab": {
          "base_uri": "https://localhost:8080/"
        },
        "id": "ys6MjfZkHS3m",
        "outputId": "da2d8d18-d0f5-4fab-c180-aeef2ee7749e"
      },
      "execution_count": null,
      "outputs": [
        {
          "output_type": "stream",
          "name": "stdout",
          "text": [
            "  [1]  1 NA NA NA NA NA NA  1  1  1  1 NA NA  1 NA NA  1  1  0  1  0  1  0  0  1\n",
            " [26] NA NA NA  1  1  1  1  0  0  0  0  1  1  1  0  1  0  1  0  1  1  1  0  1  1\n",
            " [51]  0  1 NA NA  1 NA  0  0 NA NA  1 NA NA  1 NA NA NA  1  1  1 NA  1 NA NA  1\n",
            " [76] NA  0  0  1  0  1  1  1  1  1  0  0  0  1  0  0  0  0  1  0  1  1  0  1  0\n",
            "[101]  1  1 NA  1  0  1  1  1  1  0  1  0  1  0  1  0  1  0 NA  1 NA  0  1  1  1\n",
            "[126]  0  1 NA NA  1 NA NA NA  1 NA  1  0  1  1  0  0  1  1 NA  1 NA  0  0  0  0\n",
            "[151]  1  0  0  1  1  1  1  1  1  0  0  0  0  0 NA NA  1 NA  1  1  1  1 NA  1 NA\n",
            "[176] NA  0  0  0  0  0  0  1  1  1  0  0  1  1  1 NA NA NA NA NA  1 NA NA  1 NA\n",
            "[1] \"NA values still present\"\n",
            "  [1] 1 0 0 0 0 0 0 1 1 1 1 0 0 1 0 0 1 1 0 1 0 1 0 0 1 0 0 0 1 1 1 1 0 0 0 0 1\n",
            " [38] 1 1 0 1 0 1 0 1 1 1 0 1 1 0 1 0 0 1 0 0 0 0 0 1 0 0 1 0 0 0 1 1 1 0 1 0 0\n",
            " [75] 1 0 0 0 1 0 1 1 1 1 1 0 0 0 1 0 0 0 0 1 0 1 1 0 1 0 1 1 0 1 0 1 1 1 1 0 1\n",
            "[112] 0 1 0 1 0 1 0 0 1 0 0 1 1 1 0 1 0 0 1 0 0 0 1 0 1 0 1 1 0 0 1 1 0 1 0 0 0\n",
            "[149] 0 0 1 0 0 1 1 1 1 1 1 0 0 0 0 0 0 0 1 0 1 1 1 1 0 1 0 0 0 0 0 0 0 0 1 1 1\n",
            "[186] 0 0 1 1 1 0 0 0 0 0 1 0 0 1 0\n",
            "[1] \"NA values set to zero\"\n"
          ]
        }
      ]
    },
    {
      "cell_type": "code",
      "source": [
        "%%R\n",
        "swth<-swth%>%\n",
        "mutate(Early_Tidy=case_when(is.na(detection_time) ~ 0,\n",
        "                            detection_time > 30 ~ 0,\n",
        "                            detection_time < 30 ~ 1))\n",
        "print(head(swth$Early_Tidy, n=200))\n",
        "print(\"NA values set to zero\")"
      ],
      "metadata": {
        "colab": {
          "base_uri": "https://localhost:8080/"
        },
        "id": "tIq7b-Z9IztA",
        "outputId": "5d7b9f7f-ce15-4424-b48c-d3518667f80b"
      },
      "execution_count": null,
      "outputs": [
        {
          "output_type": "stream",
          "name": "stdout",
          "text": [
            "  [1] 1 0 0 0 0 0 0 1 1 1 1 0 0 1 0 0 1 1 0 1 0 1 0 0 1 0 0 0 1 1 1 1 0 0 0 0 1\n",
            " [38] 1 1 0 1 0 1 0 1 1 1 0 1 1 0 1 0 0 1 0 0 0 0 0 1 0 0 1 0 0 0 1 1 1 0 1 0 0\n",
            " [75] 1 0 0 0 1 0 1 1 1 1 1 0 0 0 1 0 0 0 0 1 0 1 1 0 1 0 1 1 0 1 0 1 1 1 1 0 1\n",
            "[112] 0 1 0 1 0 1 0 0 1 0 0 1 1 1 0 1 0 0 1 0 0 0 1 0 1 0 1 1 0 0 1 1 0 1 0 0 0\n",
            "[149] 0 0 1 0 0 1 1 1 1 1 1 0 0 0 0 0 0 0 1 0 1 1 1 1 0 1 0 0 0 0 0 0 0 0 1 1 1\n",
            "[186] 0 0 1 1 1 0 0 0 0 0 1 0 0 1 0\n",
            "[1] \"NA values set to zero\"\n"
          ]
        }
      ]
    },
    {
      "cell_type": "markdown",
      "source": [
        "###Dealing with Missing Values\n",
        "\n",
        "The raw Swainson's Thrush data downloaded from WildTrax includes data from recordings that have not yet been transcribed. We'll want to remove those recordings prior to exploring or analyzing the data."
      ],
      "metadata": {
        "id": "33iLNvonKiF2"
      }
    },
    {
      "cell_type": "code",
      "source": [
        "%%R\n",
        "swthTrans_basic<-swth[swth$aru_task_status==\"Transcribed\",]\n",
        "#alternatively:\n",
        "swthTrans_tidy<-swth%>%filter(aru_task_status==\"Transcribed\")"
      ],
      "metadata": {
        "id": "_boSPVfjK_CF"
      },
      "execution_count": null,
      "outputs": []
    },
    {
      "cell_type": "markdown",
      "source": [
        "There are 3464 observations and 30 columns or variables in both new data frames. No variables have been removed but the number of observations has gone down. We’ll use the “swthTrans_tidy” data frame for the next steps.\n",
        "\n",
        "Our observations will be individual recordings. Each observation will have a count for each possible species in the dataset. We start by taking the variable individual_count, which is a character string, and converting it to a number variable. This variable contains an observation each time a species is detected singing within a recording. Currently, the first 100 values of individual_count look like this:"
      ],
      "metadata": {
        "id": "8RRl5eYKLasZ"
      }
    },
    {
      "cell_type": "code",
      "source": [
        "%%R\n",
        "print(levels(as.factor(swthTrans_tidy$individual_count)))\n",
        "print(\"Possible values in variable individual_count\")\n",
        "print(head(swthTrans_tidy$individual_count, n=200))\n",
        "#Always double-check that there aren't any missing values!\n",
        "swthTrans_tidyNA<-swthTrans_tidy%>%filter(is.na(individual_count))\n",
        "numNA<-nrow(swthTrans_tidyNA)\n",
        "print(numNA)\n",
        "print(\"Number of missing values for the variable individual_count\")"
      ],
      "metadata": {
        "colab": {
          "base_uri": "https://localhost:8080/"
        },
        "id": "1vxAX4yFLvry",
        "outputId": "f6fe23dc-d3c9-4fb5-9c94-bdf2095671d1"
      },
      "execution_count": null,
      "outputs": [
        {
          "output_type": "stream",
          "name": "stdout",
          "text": [
            "[1] \"1\" \"2\"\n",
            "[1] \"Possible values in variable individual_count\"\n",
            "  [1] 1 1 1 1 1 1 1 1 1 1 1 1 1 1 1 1 1 1 1 1 1 1 1 1 1 1 1 1 1 1 1 1 1 1 1 1 1\n",
            " [38] 1 1 1 1 1 1 1 1 1 1 1 1 1 1 1 1 1 1 1 1 1 1 1 1 1 1 1 1 1 1 1 1 1 1 1 1 1\n",
            " [75] 1 1 1 1 1 1 1 1 1 1 1 1 1 1 1 1 1 1 1 1 1 1 1 1 1 1 1 1 1 1 1 1 1 1 1 1 1\n",
            "[112] 1 1 1 1 1 1 1 1 1 1 1 1 1 1 1 1 1 1 1 1 1 1 1 1 1 1 1 1 1 1 1 1 1 1 1 1 1\n",
            "[149] 1 1 1 1 1 1 1 1 1 1 1 1 1 1 1 1 1 1 1 1 1 1 1 1 1 1 1 1 1 1 1 2 1 2 2 2 2\n",
            "[186] 2 1 1 1 1 1 1 1 1 1 1 1 1 1 1\n",
            "[1] 4\n",
            "[1] \"Number of missing values for the variable individual_count\"\n"
          ]
        }
      ]
    },
    {
      "cell_type": "markdown",
      "source": [
        "There are 4 missing values (NA) for transcribed recordings where no birds were detected (species_code=NONE). We should change these NA values to zeros."
      ],
      "metadata": {
        "id": "27lXGZl4Lmv2"
      }
    },
    {
      "cell_type": "code",
      "source": [
        "%%R\n",
        "numNA1<-nrow(swthTrans_tidy[is.na(swthTrans_tidy$individual_count),])\n",
        "print(paste0(\"There are \", numNA1, \" missing values for variable individual_count.\"))\n",
        "\n",
        "swthTrans_tidy$individual_countCorrBasic<-ifelse(is.na(swthTrans_tidy$individual_count),0, swthTrans_tidy$individual_count)\n",
        "numNA2<-nrow(swthTrans_tidy[is.na(swthTrans_tidy$individual_countCorrBasic),])\n",
        "print(paste0(\"There are \", numNA2, \" missing values for variable individual_countCorrBasic.\"))\n",
        "\n",
        "#Alternatively:\n",
        "swthTrans_tidy<-swthTrans_tidy%>%\n",
        "  mutate(individual_countCorrTidy = case_when(individual_count==1 ~ 1,\n",
        "                                individual_count==2 ~ 2,\n",
        "                                species_code==\"NONE\" ~ 0))\n",
        "\n",
        "numNA3<-nrow(swthTrans_tidy[is.na(swthTrans_tidy$individual_countCorrTidy),])\n",
        "print(paste0(\"There are \", numNA3, \" missing values for variable individual_countCorrTidy.\"))\n"
      ],
      "metadata": {
        "colab": {
          "base_uri": "https://localhost:8080/"
        },
        "id": "h-yKb-CWNMfk",
        "outputId": "406d71b4-a9c4-40d2-fab7-6497b97c5afe"
      },
      "execution_count": null,
      "outputs": [
        {
          "output_type": "stream",
          "name": "stdout",
          "text": [
            "[1] \"There are 4 missing values for variable individual_count.\"\n",
            "[1] \"There are 0 missing values for variable individual_countCorrBasic.\"\n",
            "[1] \"There are 0 missing values for variable individual_countCorrTidy.\"\n"
          ]
        }
      ]
    },
    {
      "cell_type": "markdown",
      "source": [
        "After using the mutate and case_when functions, there are 0 missing values for the variable individual_count when no birds are detected in a particular transcribed recording.\n",
        "\n",
        "The variable individual_order indicates distinct individuals of a species associated with a particular song detection in a recording and, max(individual_order) will give us the number of distinct individuals of a species thought to be in a recording. Like individual_count, there are 4 missing values for individual_order in recordings where no species were detected:"
      ],
      "metadata": {
        "id": "BI4kGNJeOVAf"
      }
    },
    {
      "cell_type": "code",
      "source": [
        "%%R\n",
        "numNA4<-nrow(swthTrans_tidy[is.na(swthTrans_tidy$individual_order),])\n",
        "print(paste0(\"There are \", numNA4, \" missing values for variable individual_order.\"))\n",
        "\n",
        "swthTrans_tidy$individual_orderCorrBasic<-ifelse(is.na(swthTrans_tidy$individual_order),0, swthTrans_tidy$individual_order)\n",
        "numNA5<-nrow(swthTrans_tidy[is.na(swthTrans_tidy$individual_orderCorrBasic),])\n",
        "print(paste0(\"There are \", numNA5, \" missing values for variable individual_orderCorrBasic.\"))\n",
        "\n",
        "#Alternatively:\n",
        "swthTrans_tidy<-swthTrans_tidy%>%\n",
        "  mutate(individual_orderCorrTidy = case_when(individual_order==1 ~ 1,\n",
        "                                individual_order==2 ~ 2,\n",
        "                                species_code==\"NONE\" ~ 0))\n",
        "\n",
        "numNA6<-nrow(swthTrans_tidy[is.na(swthTrans_tidy$individual_orderCorrTidy),])\n",
        "print(paste0(\"There are \", numNA6, \" missing values for variable individual_orderCorrTidy.\"))"
      ],
      "metadata": {
        "colab": {
          "base_uri": "https://localhost:8080/"
        },
        "id": "QJHg2TBJOZfU",
        "outputId": "0178485f-ca01-4133-e442-846b824ed609"
      },
      "execution_count": null,
      "outputs": [
        {
          "output_type": "stream",
          "name": "stdout",
          "text": [
            "[1] \"There are 4 missing values for variable individual_order.\"\n",
            "[1] \"There are 0 missing values for variable individual_orderCorrBasic.\"\n",
            "[1] \"There are 78 missing values for variable individual_orderCorrTidy.\"\n"
          ]
        }
      ]
    },
    {
      "cell_type": "markdown",
      "source": [
        "###Summarizing data\n",
        "\n",
        "Now that we have counts of individual species and songs, we can try summarizing the data for each recording.\n",
        "\n",
        "Summarize individual counts of each species at each site in each recording using ***tidyverse*** functions while keeping everything on a single 2-d data frame."
      ],
      "metadata": {
        "id": "GB-oxZ8FParF"
      }
    },
    {
      "cell_type": "code",
      "source": [
        "%%R\n",
        "songs_per_recording<-swth%>%\n",
        "filter(aru_task_status==\"Transcribed\")%>%\n",
        "group_by(location, recording_date_time, species_code, latitude, longitude)%>%\n",
        "summarize(songactivity=sum(individual_count))%>%\n",
        "pivot_wider(names_from=\"species_code\", values_from=\"songactivity\")%>%\n",
        "mutate(across(where(is.numeric), ~replace(., is.na(.), 0)))%>%\n",
        "select(\"location\", \"recording_date_time\", \"latitude\", \"longitude\", \"SWTH\")\n",
        "\n",
        "print(head(songs_per_recording, n=10))\n",
        "\n",
        "write.csv(songs_per_recording, file=\"/content/SWTHsongs_per_recording.csv\")\n",
        "#stores the file you created\n",
        "\n",
        "indivs_per_recording<-swth%>%\n",
        "filter(aru_task_status==\"Transcribed\")%>%\n",
        "group_by(location, recording_date_time, species_code, latitude, longitude)%>%\n",
        "summarize(indivs=max(individual_order))%>%\n",
        "pivot_wider(names_from=\"species_code\", values_from=\"indivs\")%>%\n",
        "mutate(across(where(is.numeric), ~replace(., is.na(.), 0)))%>%\n",
        "select(\"location\", \"recording_date_time\", \"latitude\", \"longitude\", \"SWTH\")\n",
        "\n",
        "print(head(indivs_per_recording, n=10))\n",
        "\n",
        "write.csv(indivs_per_recording, file=\"/content/SWTHindivs_per_recording.csv\")"
      ],
      "metadata": {
        "colab": {
          "base_uri": "https://localhost:8080/"
        },
        "id": "28NHybJ9PpDU",
        "outputId": "fc6d17ef-2a35-47bc-95fd-b86feb5a44a7"
      },
      "execution_count": null,
      "outputs": [
        {
          "output_type": "stream",
          "name": "stdout",
          "text": [
            "`summarise()` has grouped output by 'location', 'recording_date_time',\n",
            "'species_code', 'latitude'. You can override using the `.groups` argument.\n",
            "# A tibble: 10 × 5\n",
            "# Groups:   location, recording_date_time, latitude [10]\n",
            "   location recording_date_time latitude longitude  SWTH\n",
            "   <chr>    <chr>                  <dbl>     <dbl> <dbl>\n",
            " 1 BG-8-11  2016-06-10 15:00:00     59.4     -122.     0\n",
            " 2 BG-8-11  2016-06-11 12:00:00     59.4     -122.     0\n",
            " 3 BG-8-11  2016-06-11 22:24:00     59.4     -122.     0\n",
            " 4 BG-8-11  2016-06-11 23:24:00     59.4     -122.     0\n",
            " 5 BG-8-11  2016-06-12 00:00:00     59.4     -122.     0\n",
            " 6 BG-8-11  2016-06-12 04:22:00     59.4     -122.     0\n",
            " 7 BG-8-11  2016-06-12 21:25:00     59.4     -122.     0\n",
            " 8 BG-8-11  2016-06-13 02:00:00     59.4     -122.     8\n",
            " 9 BG-8-11  2016-06-13 22:26:00     59.4     -122.    24\n",
            "10 BG-8-11  2016-06-14 02:21:00     59.4     -122.     0\n",
            "`summarise()` has grouped output by 'location', 'recording_date_time',\n",
            "'species_code', 'latitude'. You can override using the `.groups` argument.\n",
            "# A tibble: 10 × 5\n",
            "# Groups:   location, recording_date_time, latitude [10]\n",
            "   location recording_date_time latitude longitude  SWTH\n",
            "   <chr>    <chr>                  <dbl>     <dbl> <dbl>\n",
            " 1 BG-8-11  2016-06-10 15:00:00     59.4     -122.     0\n",
            " 2 BG-8-11  2016-06-11 12:00:00     59.4     -122.     0\n",
            " 3 BG-8-11  2016-06-11 22:24:00     59.4     -122.     0\n",
            " 4 BG-8-11  2016-06-11 23:24:00     59.4     -122.     0\n",
            " 5 BG-8-11  2016-06-12 00:00:00     59.4     -122.     0\n",
            " 6 BG-8-11  2016-06-12 04:22:00     59.4     -122.     0\n",
            " 7 BG-8-11  2016-06-12 21:25:00     59.4     -122.     0\n",
            " 8 BG-8-11  2016-06-13 02:00:00     59.4     -122.     1\n",
            " 9 BG-8-11  2016-06-13 22:26:00     59.4     -122.     3\n",
            "10 BG-8-11  2016-06-14 02:21:00     59.4     -122.     0\n"
          ]
        }
      ]
    },
    {
      "cell_type": "markdown",
      "source": [
        "We use ***%>%group_by()*** to collapse the observations of different song detections to a single observation for each recording at each site at a particular day and time.\n",
        "\n",
        "The resulting temporary object has a single observation for each distinct combination of values of location, recording_date_time, species_code, latitude, and longitude, and this resulting object is the input for ***%>%summarize()***.\n",
        "\n",
        "The resulting temporary object produced by ***%>%summarize()*** is a summarized variable, either song rate or number of individuals of a species, and that becomes the input for the next piped function, ***%>%pivot_wider***, which ***reshapes*** the data frame so that summarized observations of separate species in each recording become columns.\n",
        "\n",
        "When that happens, any species not present in a particular recording will have a missing value for that summarized variable, so the next piped function, ***%>%mutate*** will go through any columns with numeric variables and replace NA values with zeroes. The final pipe, ***%>%select*** drops any variables from the data frame that we no longer require, except for those variables in the parentheses.\n",
        "\n",
        "Each summarized data frame above is produced by a single line of code and only a single object needs to be saved. The same data frame could be produced in base R but would require at least several lines of code and intermediate objects would need to be saved."
      ],
      "metadata": {
        "id": "3VBd5JYfT7e-"
      }
    },
    {
      "cell_type": "code",
      "source": [
        "%%R\n",
        "swthBasic<-swth\n",
        "swthBasic$individual_count<-ifelse(is.na(swthBasic$individual_count),0,swthBasic$individual_count)#replace NA values with zeroes in \"individual_count\"\n",
        "\n",
        "tapply.spp<-tapply(swthBasic$individual_count, list(swthBasic$location, swthBasic$recording_date_time, swthBasic$species_code, swthBasic$latitude, swthBasic$longitude), sum, na.rm=TRUE)\n",
        "#results stored in 4-d array: more difficult to work with than a flat data frame\n",
        "str(tapply.spp)"
      ],
      "metadata": {
        "colab": {
          "base_uri": "https://localhost:8080/"
        },
        "id": "M0mXJA5NVADn",
        "outputId": "29c03ec1-28fd-4278-b391-aae0e8fa9a7b"
      },
      "execution_count": null,
      "outputs": [
        {
          "output_type": "stream",
          "name": "stdout",
          "text": [
            " num [1:4, 1:3496, 1:7, 1:4, 1:4] NA NA NA NA NA NA NA NA NA NA ...\n",
            " - attr(*, \"dimnames\")=List of 5\n",
            "  ..$ : chr [1:4] \"BG-8-11\" \"BG-8-21\" \"NWTI-3-7-NW\" \"RIVR-6-2\"\n",
            "  ..$ : chr [1:3496] \"2016-04-24 03:56:00\" \"2016-04-24 07:56:00\" \"2016-04-25 00:00:00\" \"2016-04-25 15:00:00\" ...\n",
            "  ..$ : chr [1:7] \"AMRO\" \"ELKK\" \"HETH\" \"NONE\" ...\n",
            "  ..$ : chr [1:4] \"53.789867\" \"59.411708\" \"59.417149\" \"60.03968\"\n",
            "  ..$ : chr [1:4] \"-122.156173\" \"-122.156055\" \"-113.081\" \"-111.408461\"\n"
          ]
        }
      ]
    },
    {
      "cell_type": "markdown",
      "source": [
        "As we can see, it takes multiple lines of code to produce the same summarized data frame using basic R and we haven’t even run all of the equivalent commands yet! The summary output produced by base R’s tapply function is in the form of a multi-dimensional array rather than a flat data frame. The latter is easier to comprehend and work with. Trust me, ***tidyverse*** functions make data manipulation much easier!\n",
        "\n",
        "Let’s create some time variables for each recording, using the ***lubridate*** package. Song rate may vary with time of year and time of day or night when recordings happen. The code below shows how it is done in base R."
      ],
      "metadata": {
        "id": "Dm_p3kPPVLYi"
      }
    },
    {
      "cell_type": "code",
      "source": [
        "%%R\n",
        "#install.packages(\"lubridate\") #Once installed for the first time in Google Colab, comment this out.\n",
        "library(lubridate)\n",
        "#In base R, you would do this:\n",
        "songs_per_recording$Hour<-format(as.POSIXct(songs_per_recording$recording_date_time), format = \"%H\")\n",
        "songs_per_recording$Minute<-format(as.POSIXct(songs_per_recording$recording_date_time), format = \"%M\")\n",
        "songs_per_recording$timeNumeric<-as.integer(songs_per_recording$Hour)+(as.integer(songs_per_recording$Minute)/60)\n",
        "\n",
        "songs_per_recording$JulianDay<-yday(songs_per_recording$recording_date_time)\n",
        "write.csv(songs_per_recording, file=\"/content/SWTHsongs_per_recording.csv\")\n",
        "\n",
        "indivs_per_recording$Hour<-format(as.POSIXct(indivs_per_recording$recording_date_time), format = \"%H\")\n",
        "indivs_per_recording$Minute<-format(as.POSIXct(indivs_per_recording$recording_date_time), format = \"%M\")\n",
        "indivs_per_recording$timeNumeric<-as.integer(indivs_per_recording$Hour)+(as.integer(indivs_per_recording$Minute)/60)\n",
        "\n",
        "indivs_per_recording$JulianDay<-yday(indivs_per_recording$recording_date_time)\n",
        "write.csv(indivs_per_recording, file=\"/content/SWTHindivs_per_recording.csv\")"
      ],
      "metadata": {
        "id": "ZLyLkvpKV7Dn"
      },
      "execution_count": null,
      "outputs": []
    },
    {
      "cell_type": "code",
      "source": [
        "%%R\n",
        "#Alternatively, use tidyverse functions and do this:\n",
        "songs_per_recording<-songs_per_recording%>%\n",
        "  mutate(Hour=format(as.POSIXct(recording_date_time), format = \"%H\"))%>%\n",
        "  mutate(Minute=format(as.POSIXct(recording_date_time), format = \"%M\"))%>%\n",
        "  mutate(timeNumeric=as.integer(Hour)+as.integer(Minute)/60)%>%\n",
        "  mutate(JulianDay=yday(recording_date_time))\n",
        "\n",
        "write.csv(songs_per_recording, file=\"/content/SWTHsongs_per_recording.csv\")\n",
        "\n",
        "indivs_per_recording<-indivs_per_recording%>%\n",
        "  mutate(Hour=format(as.POSIXct(recording_date_time), format = \"%H\"))%>%\n",
        "  mutate(Minute=format(as.POSIXct(recording_date_time), format = \"%M\"))%>%\n",
        "  mutate(timeNumeric=as.integer(Hour)+as.integer(Minute)/60)%>%\n",
        "  mutate(JulianDay=yday(recording_date_time))\n",
        "\n",
        "write.csv(indivs_per_recording, file=\"/content/SWTHindivs_per_recording.csv\")"
      ],
      "metadata": {
        "id": "-t-SThQeWi4z"
      },
      "execution_count": null,
      "outputs": []
    },
    {
      "cell_type": "markdown",
      "source": [
        "When do you decide to use pipes and tidyverse packages and functions as opposed to base R functions? If we need to manipulate multiple separate objects at the same time, rather than apply a sequence of functions to a single object, then there isn’t much of an advantage to using tidyverse over base R. However, it is good to be consistent in how you code your scripts.\n",
        "\n",
        "Download the summary data frames that you wrote to CSV files, to your computer outside of Google Colab."
      ],
      "metadata": {
        "id": "q4MimCp2W40E"
      }
    },
    {
      "cell_type": "markdown",
      "source": [
        "###An aside: the ***data.table*** package\n",
        "\n",
        "While ***tidyverse*** and ***tidyverse***-compatible packages are used by an enormous community of R practitioners, we should make you aware of another package used in R to manipulate data frames, summarize data, and create new variables. That package is ***data.table***.\n",
        "\n",
        "There is a [***data.table*** cheatsheet](https://s3.amazonaws.com/assets.datacamp.com/blog_assets/datatable_Cheat_Sheet_R.pdf) that you can look at. A lot of people vouch for ***data.table*** as well as or instead of ***tidyverse***."
      ],
      "metadata": {
        "id": "VWTKyiQoZ2Eq"
      }
    },
    {
      "cell_type": "markdown",
      "source": [
        "##Learning Outcome: Explore data (*distributions*, *potential relationships*) prior to modelling in Colab, using functions in base R and ***tidyverse*** packages."
      ],
      "metadata": {
        "id": "wQBM4zRH83bf"
      }
    },
    {
      "cell_type": "markdown",
      "source": [
        "###Histograms\n",
        "\n",
        "The hist function in basic R can be used to explore how values of a variable are distributed. Plotting the distribution of values may influence what kinds of model we can use to predict that variable. For example, one of the assumptions underlying our trust in results from a ordinary least-squares regression model is that the model errors (residuals) are normally distributed (*as a symmetrical \"bell\" curve with 95% of values within ~2 standard deviations of the mean and median value, which coincide*). Prior to modelling, if the distribution of values of the dependent variable looks very different from a normal curve (e.g., [skewed, truncated, leptokurtic, or platykurtic](https://colab.research.google.com/drive/1apACLM5lb3-BQIRu8htg9iTLBSyFLT_Q#scrollTo=3wBUMyBHyJw9)), then it is likely that the errors will be non-normally distributed as well. You may then want to either:\n",
        "\n",
        "* transform the dependent variables values (e.g., take the square-root or log of those values) to pull in extreme outliers, then run the model with the transformed values as the dependent variable.\n",
        "* consider models that use a non-normal error distribution."
      ],
      "metadata": {
        "id": "zKKMh1GvX_U_"
      }
    },
    {
      "cell_type": "code",
      "source": [
        "%%R\n",
        "hist(songs_per_recording$SWTH,\n",
        "     xlab=\"Swainson's Thrush Song Rate (#songs per minute)\",\n",
        "     ylab=\"Number of observations with a particular song rate\",\n",
        "     main=\"Title: Distribution of Swainson's Thrush Song Rate\",\n",
        "     col=\"blue\")"
      ],
      "metadata": {
        "colab": {
          "base_uri": "https://localhost:8080/",
          "height": 497
        },
        "id": "BAXgp9JGYH9J",
        "outputId": "a7d22151-7c94-43cd-a68c-f76ebbd6cab0"
      },
      "execution_count": null,
      "outputs": [
        {
          "output_type": "display_data",
          "data": {
            "image/png": "[encoded data removed]"
          },
          "metadata": {}
        }
      ]
    },
    {
      "cell_type": "code",
      "source": [
        "%%R\n",
        "print(paste0(\"Mean SWTH song rate per recording: \", round(mean(songs_per_recording$SWTH),2), \" (rounded to a maximum of 2 decimal places)\"))"
      ],
      "metadata": {
        "colab": {
          "base_uri": "https://localhost:8080/"
        },
        "id": "8GAWHpt-YygU",
        "outputId": "7d583485-a1e3-49a3-f22a-aa6a43e13b37"
      },
      "execution_count": null,
      "outputs": [
        {
          "output_type": "stream",
          "name": "stdout",
          "text": [
            "[1] \"Mean SWTH song rate per recording: 1.94 (rounded to a maximum of 2 decimal places)\"\n"
          ]
        }
      ]
    },
    {
      "cell_type": "code",
      "source": [
        "%%R\n",
        "print(paste0(\"Variance in SWTH song rate per recording: \", round(var(songs_per_recording$SWTH),2), \" (rounded to a maximum of 2 decimal places)\"))"
      ],
      "metadata": {
        "colab": {
          "base_uri": "https://localhost:8080/"
        },
        "id": "O04gaf1cZLoN",
        "outputId": "2dd703d9-bc68-422b-9d88-fe61bfc243d2"
      },
      "execution_count": null,
      "outputs": [
        {
          "output_type": "stream",
          "name": "stdout",
          "text": [
            "[1] \"Variance in SWTH song rate per recording: 26.85 (rounded to a maximum of 2 decimal places)\"\n"
          ]
        }
      ]
    },
    {
      "cell_type": "code",
      "source": [
        "%%R\n",
        "hist(indivs_per_recording$SWTH,\n",
        "     xlab=\"Swainson's Thrush individuals (#detected individuals per recording)\",\n",
        "     ylab=\"Number of observations with a particular number of individuals\",\n",
        "     main=\"Title: Distribution of Swainson's Thrush Individuals\",\n",
        "     col=\"darkgreen\")"
      ],
      "metadata": {
        "colab": {
          "base_uri": "https://localhost:8080/",
          "height": 497
        },
        "id": "WJKnxDf5Z2oC",
        "outputId": "40bc2227-c385-48eb-cd3a-df8525c0d5fe"
      },
      "execution_count": null,
      "outputs": [
        {
          "output_type": "display_data",
          "data": {
            "image/png": "[encoded data removed]"
          },
          "metadata": {}
        }
      ]
    },
    {
      "cell_type": "markdown",
      "source": [
        "The histogram suggests a non-normal distributions of Swainson’s Thrush song activity and number of individuals. So when song rate is a dependent variable in a simpler model like a linear regression model or t-test or ANOVA, we might want to transform its values to better meet the statistical assumptions of that model (e.g., errors are normally distributed). Alternatively, we might want to run a non-parametric model or use a model where we explicitly model song rate with a non-normal distribution. Variance in these response variables is much larger than mean values, suggesting that we should model them with a negative binomial distribution.\n",
        "\n",
        "Below we see how to create a histogram using plotting functions from a *tidyverse-compatible* package called **ggplot2**. You may have already loaded this package at the start of the Google Colab session. If not, uncomment the ***library(ggplot2)*** command."
      ],
      "metadata": {
        "id": "AGsyG4vsYoVG"
      }
    },
    {
      "cell_type": "code",
      "source": [
        "%%R\n",
        "#library(ggplot2)\n",
        "ggplot(songs_per_recording, aes(x=SWTH))+geom_histogram()"
      ],
      "metadata": {
        "colab": {
          "base_uri": "https://localhost:8080/",
          "height": 514
        },
        "id": "uuT2GmBGa9PN",
        "outputId": "6916de93-0202-4869-fc0e-728936969243"
      },
      "execution_count": null,
      "outputs": [
        {
          "output_type": "stream",
          "name": "stdout",
          "text": [
            "`stat_bin()` using `bins = 30`. Pick better value with `binwidth`.\n"
          ]
        },
        {
          "output_type": "display_data",
          "data": {
            "image/png": "[encoded data removed]"
          },
          "metadata": {}
        }
      ]
    },
    {
      "cell_type": "markdown",
      "source": [
        "Both hist and ggplot histogram objects can be customized in many ways, although ggplot probably allows much greater customization. You can learn more about customizing histograms with ggplot at http://www.sthda.com/english/wiki/ggplot2-histogram-plot-quick-start-guide-r-software-and-data-visualization. You will also see examples of nice-looking histograms later on in [Data & distributions.ipynb](https://colab.research.google.com/drive/1apACLM5lb3-BQIRu8htg9iTLBSyFLT_Q#scrollTo=3wBUMyBHyJw9).\n",
        "\n",
        "\n",
        "###Bar Plots and Box Plots\n",
        "\n",
        "Bar plots and box plots are useful for summarizing numeric data for different categories or by dates across time."
      ],
      "metadata": {
        "id": "LQlfnJ3ebT0q"
      }
    },
    {
      "cell_type": "code",
      "source": [
        "%%R\n",
        "swth_summ<-songs_per_recording%>%\n",
        "  group_by(Hour)%>%\n",
        "  summarize(SWTH=mean(SWTH))\n",
        "\n",
        "boxplot(SWTH~location,\n",
        "        data=songs_per_recording)"
      ],
      "metadata": {
        "colab": {
          "base_uri": "https://localhost:8080/",
          "height": 497
        },
        "id": "UelV5RwUcBQY",
        "outputId": "1c8ee312-4936-4afc-f6fb-235c865baa95"
      },
      "execution_count": null,
      "outputs": [
        {
          "output_type": "display_data",
          "data": {
            "image/png": "[encoded data removed]"
          },
          "metadata": {}
        }
      ]
    },
    {
      "cell_type": "code",
      "source": [
        "%%R\n",
        "boxplot(SWTH~Hour,\n",
        "        data=swth_summ)"
      ],
      "metadata": {
        "colab": {
          "base_uri": "https://localhost:8080/",
          "height": 497
        },
        "id": "CKXaG1TAcQzs",
        "outputId": "e242aba8-2a84-4782-abc6-55d4acf04e3f"
      },
      "execution_count": null,
      "outputs": [
        {
          "output_type": "display_data",
          "data": {
            "image/png": "[encoded data removed]"
          },
          "metadata": {}
        }
      ]
    },
    {
      "cell_type": "code",
      "source": [
        "%%R\n",
        "swth_summ2<-songs_per_recording%>%\n",
        "  group_by(location)%>%\n",
        "  summarize(SWTH=mean(SWTH))\n",
        "\n",
        "barplot(swth_summ2$SWTH,\n",
        "  xlab=\"Site\",\n",
        "  names.arg=levels(as.factor(swth_summ2$location)),\n",
        "  ylab=\"Mean SWTH Song Activity\",\n",
        "  border=\"red\",\n",
        "  col=\"blue\")"
      ],
      "metadata": {
        "colab": {
          "base_uri": "https://localhost:8080/",
          "height": 497
        },
        "id": "dppdhxC5cbqT",
        "outputId": "8a34b2e1-720e-478a-ecf9-38d6cf72ffb1"
      },
      "execution_count": null,
      "outputs": [
        {
          "output_type": "display_data",
          "data": {
            "image/png": "[encoded data removed]"
          },
          "metadata": {}
        }
      ]
    },
    {
      "cell_type": "code",
      "source": [
        "%%R\n",
        "barplot(swth_summ$SWTH,\n",
        "  xlab=\"Time of Day (24 h period)\",\n",
        "  names.arg=levels(as.factor(swth_summ$Hour)),\n",
        "  ylab=\"Mean SWTH Song Activity\",\n",
        "  border=\"red\",\n",
        "  col=\"blue\")"
      ],
      "metadata": {
        "colab": {
          "base_uri": "https://localhost:8080/",
          "height": 497
        },
        "id": "Du7uAv_rckPV",
        "outputId": "c7a88944-6cb7-42ee-f50f-82ab8b842420"
      },
      "execution_count": null,
      "outputs": [
        {
          "output_type": "display_data",
          "data": {
            "image/png": "[encoded data removed]"
          },
          "metadata": {}
        }
      ]
    },
    {
      "cell_type": "markdown",
      "source": [
        "You can create bar plots and box plots in ggplot as well."
      ],
      "metadata": {
        "id": "mDl5teIMcybD"
      }
    },
    {
      "cell_type": "code",
      "source": [
        "%%R\n",
        "ggplot(songs_per_recording, aes(location, SWTH))+geom_boxplot()"
      ],
      "metadata": {
        "colab": {
          "base_uri": "https://localhost:8080/",
          "height": 497
        },
        "id": "beoiK5Pdc0Fa",
        "outputId": "3831cfd9-8aa6-47c1-f0df-f37a77c036cf"
      },
      "execution_count": null,
      "outputs": [
        {
          "output_type": "display_data",
          "data": {
            "image/png": "[encoded data removed]"
          },
          "metadata": {}
        }
      ]
    },
    {
      "cell_type": "markdown",
      "source": [
        "Bar plots can be created in ggplot as well, but may be more useful for plotting the number of observations assigned to a particular category, in which case a bar plot behaves like a histogram for categorical variables rather than numeric variables. ***geom_col*** can be used when you want to plot summary values of a variable in different treatments or categories."
      ],
      "metadata": {
        "id": "gVPeI4FadPh6"
      }
    },
    {
      "cell_type": "code",
      "source": [
        "%%R\n",
        "ggplot(swth_summ, aes(Hour,SWTH))+geom_col() #for summarizing numeric values per category"
      ],
      "metadata": {
        "colab": {
          "base_uri": "https://localhost:8080/",
          "height": 497
        },
        "id": "PUN-DBvudbwh",
        "outputId": "243e547a-ad24-4d81-ace0-69a9789afb23"
      },
      "execution_count": null,
      "outputs": [
        {
          "output_type": "display_data",
          "data": {
            "image/png": "[encoded data removed]"
          },
          "metadata": {}
        }
      ]
    },
    {
      "cell_type": "code",
      "source": [
        "%%R\n",
        "ggplot(swth_summ, aes(SWTH))+geom_bar(aes(Hour))#for plotting relative frequency of different categories"
      ],
      "metadata": {
        "colab": {
          "base_uri": "https://localhost:8080/",
          "height": 497
        },
        "id": "I8KX4Og7dppJ",
        "outputId": "a7162eb3-f8e4-4274-a763-242a8f1d94c2"
      },
      "execution_count": null,
      "outputs": [
        {
          "output_type": "display_data",
          "data": {
            "image/png": "[encoded data removed]"
          },
          "metadata": {}
        }
      ]
    },
    {
      "cell_type": "markdown",
      "source": [
        "Since we made this bar plot from a data frame that summarized song rate in different hours of the day, we have an equal number of observations per hour.\n",
        "\n",
        "There is code for custimizing box plots with ggplot at https://ggplot2.tidyverse.org/reference/geom_boxplot.html and for customizing bar plots with ggplot at https://ggplot2.tidyverse.org/reference/geom_bar.html.\n",
        "\n",
        "###Scatter Plots\n",
        "\n",
        "Scatter plots can be used to show the relationship between two numeric variables. Base R uses the ***plot*** function. Here we have song rate as a function of time of day or night.\n",
        "\n"
      ],
      "metadata": {
        "id": "iy-UKpECd2PR"
      }
    },
    {
      "cell_type": "code",
      "source": [
        "%%R\n",
        "plot(songs_per_recording$Hour,\n",
        "     songs_per_recording$SWTH,\n",
        "     ylab=\"SWTH song rate\",\n",
        "     xlab=\"Time of day (24 h period)\",\n",
        "     col=\"blue\")"
      ],
      "metadata": {
        "colab": {
          "base_uri": "https://localhost:8080/",
          "height": 497
        },
        "id": "gOk4bSQleJ0I",
        "outputId": "1b751459-8957-4f03-ab8e-9f5b180bd4bd"
      },
      "execution_count": null,
      "outputs": [
        {
          "output_type": "display_data",
          "data": {
            "image/png": "[encoded data removed]"
          },
          "metadata": {}
        }
      ]
    },
    {
      "cell_type": "markdown",
      "source": [
        "And here we have song rate as a function of Julian day (#days since January 1)."
      ],
      "metadata": {
        "id": "KR0DJA8teWcJ"
      }
    },
    {
      "cell_type": "code",
      "source": [
        "%%R\n",
        "plot(songs_per_recording$JulianDay,\n",
        "     songs_per_recording$SWTH,\n",
        "     ylab=\"SWTH song rate\",\n",
        "     xlab=\"Time of day (24 h period)\",\n",
        "     col=\"blue\")"
      ],
      "metadata": {
        "colab": {
          "base_uri": "https://localhost:8080/",
          "height": 497
        },
        "id": "txMQYu-beXh9",
        "outputId": "c2e8093f-3d3b-4f99-cf52-55ead35a6bb1"
      },
      "execution_count": null,
      "outputs": [
        {
          "output_type": "display_data",
          "data": {
            "image/png": "[encoded data removed]"
          },
          "metadata": {}
        }
      ]
    },
    {
      "cell_type": "markdown",
      "source": [
        "These plots suggest that singing rate varies nonlinearly with time of day/night and time of year.\n",
        "\n",
        "The ***ggplot*** function uses ***geom_point()*** to make scatter plots. Here we see how we would plot song rate as a function of time of day or night in ***ggplot***."
      ],
      "metadata": {
        "id": "uCPH4_W-ehdm"
      }
    },
    {
      "cell_type": "code",
      "source": [
        "%%R\n",
        "ggplot(songs_per_recording, aes(Hour,SWTH))+\n",
        "  geom_point(aes(Hour,SWTH))+\n",
        "     ylab(\"SWTH song rate\")+\n",
        "     xlab(\"Time of day (24 h period)\")"
      ],
      "metadata": {
        "colab": {
          "base_uri": "https://localhost:8080/",
          "height": 497
        },
        "id": "a2GrcRifetol",
        "outputId": "cdff6aef-f348-48f6-8f15-facfcc0571f2"
      },
      "execution_count": null,
      "outputs": [
        {
          "output_type": "display_data",
          "data": {
            "image/png": "[encoded data removed]"
          },
          "metadata": {}
        }
      ]
    },
    {
      "cell_type": "markdown",
      "source": [
        "Here we see how we would plot song rate as a function of time of season in ***ggplot***."
      ],
      "metadata": {
        "id": "OQPvMQcbe4_8"
      }
    },
    {
      "cell_type": "code",
      "source": [
        "%%R\n",
        "ggplot(songs_per_recording, aes(JulianDay,SWTH))+\n",
        "  geom_point(aes(JulianDay,SWTH))+\n",
        "     ylab(\"SWTH song rate\")+\n",
        "     xlab(\"Time of season (#days since Jan. 1)\")"
      ],
      "metadata": {
        "colab": {
          "base_uri": "https://localhost:8080/",
          "height": 497
        },
        "id": "R6c3207We790",
        "outputId": "7b9a83d5-4fb6-484c-f24c-11c3c63cd335"
      },
      "execution_count": null,
      "outputs": [
        {
          "output_type": "display_data",
          "data": {
            "image/png": "[encoded data removed]"
          },
          "metadata": {}
        }
      ]
    },
    {
      "cell_type": "markdown",
      "source": [
        "To customize scatter plots using ggplot, you can look at https://ggplot2.tidyverse.org/reference/geom_point.html.\n",
        "\n",
        "One more thing you will start to see is that there are many websites that show how not only to customize plots in R, but how to use the different packages. There is code on many websites that could be modified to solve a particular analysis problem. You can find answers to many R problems by doing a search on words specific to the type of analysis you are doing and the R packages or functions you are using. Sites like Stack Overflow are repositories for many questions and answers to challenging analysis problems in R. Large Language Models like ChatGPT may also be able to search the web for answers to R problems and generate a potential code script for running your analysis. You will still need to test the code to make sure it works! If you do obtain code from the web that you modify for a particular analysis, make sure you document where you found it and cite or at least acknowledge that source in your reports and manuscripts, especially if it’s not code that can be easily figured out with a basic knowledge of R!"
      ],
      "metadata": {
        "id": "qxzxK_OwfJtv"
      }
    },
    {
      "cell_type": "markdown",
      "source": [
        "##Learning Outcome: Visualize data (*predictions*, *model diagnostics*) from model results in Colab, using functions in base R and ***tidyverse*** packages.\n",
        "\n",
        "Data and data relationships are usually plotted both during data exploration prior to modelling (to cut down on unnecessary modelling and data mining), and after models are run. Data are visualized after modelling to:\n",
        "\n",
        "* ***assess model fit*** (how well the dependent variable is actually predicted by the model) as opposed to relying on model statistics.\n",
        "\n",
        "* ***assess prediction uncertainty*** (by plotting a prediction interval).\n",
        "\n",
        "* ***assess to what extent the model's statistical assumptions are being met or violated***, which affects the trustworthiness of results.\n",
        "\n",
        "* look for outliers, heteroskedasticity of residuals, heterogeneity of variance among categorical predictors.\n",
        "\n",
        "###Ordinary Least-squares Regression\n",
        "\n",
        "Data exploration suggested that Swainson’s Thrush song activity varied as a quadratic function of Julian day. Below is code for running a simple linear regression (ordinary least-squares regression) in R with base R’s ***lm*** function."
      ],
      "metadata": {
        "id": "Y0-i_mTT9JpJ"
      }
    },
    {
      "cell_type": "code",
      "source": [
        "%%R\n",
        "songs_per_recording$JDAY<-(songs_per_recording$JulianDay-mean(songs_per_recording$JulianDay))/sd(songs_per_recording$JulianDay)\n",
        "#The variable JulianDay is centered prior to calculating the quadratic term so\n",
        "#that the linear and quadratic terms are not strongly correlated. JDAY\n",
        "#values will be either negative (for values of Julian day less than the mean) or\n",
        "#positive (for values of JulianDay greater than the mean), while all quadratic-term\n",
        "#values will be positive\n",
        "songs_per_recording$JDAY2<-songs_per_recording$JDAY^2\n",
        "\n",
        "#Alternatively, create these variables using the mutate function:\n",
        "meanJDAY<-mean(songs_per_recording$JulianDay)\n",
        "sdJDAY<-sd(songs_per_recording$JulianDay)\n",
        "songs_per_recording<-songs_per_recording%>%\n",
        "  mutate(JDAY=(JulianDay-meanJDAY)/sdJDAY)%>%\n",
        "  mutate(JDAY2=JDAY^2)\n",
        "\n",
        "mod<-lm(SWTH~JDAY+JDAY2, data=songs_per_recording)\n",
        "\n",
        "summary(mod)"
      ],
      "metadata": {
        "colab": {
          "base_uri": "https://localhost:8080/"
        },
        "id": "pHuqZZPF5kuA",
        "outputId": "878f658e-7de6-442c-91d6-600e1615c3b1"
      },
      "execution_count": null,
      "outputs": [
        {
          "output_type": "stream",
          "name": "stdout",
          "text": [
            "\n",
            "Call:\n",
            "lm(formula = SWTH ~ JDAY + JDAY2, data = songs_per_recording)\n",
            "\n",
            "Residuals:\n",
            "   Min     1Q Median     3Q    Max \n",
            "-3.032 -2.624 -1.745  0.083 48.256 \n",
            "\n",
            "Coefficients:\n",
            "            Estimate Std. Error t value Pr(>|t|)    \n",
            "(Intercept)   3.0098     0.2000  15.051  < 2e-16 ***\n",
            "JDAY          0.3094     0.1504   2.057   0.0399 *  \n",
            "JDAY2        -1.0689     0.1368  -7.814  1.2e-14 ***\n",
            "---\n",
            "Signif. codes:  0 ‘***’ 0.001 ‘**’ 0.01 ‘*’ 0.05 ‘.’ 0.1 ‘ ’ 1\n",
            "\n",
            "Residual standard error: 5.058 on 1198 degrees of freedom\n",
            "Multiple R-squared:  0.04852,\tAdjusted R-squared:  0.04694 \n",
            "F-statistic: 30.55 on 2 and 1198 DF,  p-value: 1.149e-13\n",
            "\n"
          ]
        }
      ]
    },
    {
      "cell_type": "markdown",
      "source": [
        "Initial model results include the effect sizes, direction of the effect, and effect size uncertainty and significance for the intercept, linear Julian Day term, and quadratic Julian day term. The intercept coefficient shows the expected song rate when JDAY equals 0 (i.e., the mean value of Julian Day in the data), and therefore, JDAY2 also equals 0. The coefficient for JDAY is significantly positive and the coefficient for JDAY2 is significantly negative, so song rate is predicted to increase with Julian day before decreasing. However, a model with a quadratic function of Julian day only explained a small amount of variance. Let's look at how to get predictions."
      ],
      "metadata": {
        "id": "htdWul5A6fV9"
      }
    },
    {
      "cell_type": "code",
      "source": [
        "%%R\n",
        "#Get predicted values from linear regression\n",
        "preds<-predict(mod, songs_per_recording, se.fit = FALSE, scale = NULL, df = Inf,\n",
        "        interval = c(\"prediction\"),\n",
        "        level = 0.95, type = c(\"response\"))\n",
        "\n",
        "songs_per_recording.P<-cbind(songs_per_recording,preds)\n",
        "\n",
        "songs_per_recording.P<-songs_per_recording.P%>%\n",
        "  arrange(JulianDay)\n",
        "#sorts data frame according to values of Julian day and saves as a new data frame\n",
        "\n",
        "plot(songs_per_recording.P$JulianDay,\n",
        "     songs_per_recording.P$SWTH,\n",
        "     xlab=\"Julian day\",\n",
        "     ylab=\"SWTH song activity\")\n",
        "lines(songs_per_recording.P$JulianDay,\n",
        "     songs_per_recording.P$fit, col=\"darkred\")"
      ],
      "metadata": {
        "colab": {
          "base_uri": "https://localhost:8080/",
          "height": 497
        },
        "id": "V8G1sYiZ8vG2",
        "outputId": "ac5c397b-89ab-4b54-9e1c-bc923bf212ae"
      },
      "execution_count": null,
      "outputs": [
        {
          "output_type": "display_data",
          "data": {
            "image/png": "[encoded data removed]"
          },
          "metadata": {}
        }
      ]
    },
    {
      "cell_type": "markdown",
      "source": [
        "Alternatively, you can plot these results in **ggplot**."
      ],
      "metadata": {
        "id": "M2F-pyYP88m_"
      }
    },
    {
      "cell_type": "code",
      "source": [
        "%%R\n",
        "ggplot(songs_per_recording.P, aes(JulianDay,SWTH))+\n",
        "  xlab(\"Julian day\")+\n",
        "  ylab(\"SWTH song activity\")+\n",
        "  geom_point(aes(JulianDay,SWTH))+\n",
        "  stat_smooth()"
      ],
      "metadata": {
        "colab": {
          "base_uri": "https://localhost:8080/",
          "height": 514
        },
        "id": "c6VKYgMa9Bcf",
        "outputId": "3ad4cd9c-6ae4-4bc4-f17e-ab784fdb4967"
      },
      "execution_count": null,
      "outputs": [
        {
          "output_type": "stream",
          "name": "stdout",
          "text": [
            "`geom_smooth()` using method = 'gam' and formula = 'y ~ s(x, bs = \"cs\")'\n"
          ]
        },
        {
          "output_type": "display_data",
          "data": {
            "image/png": "[encoded data removed]"
          },
          "metadata": {}
        }
      ]
    },
    {
      "cell_type": "markdown",
      "source": [
        "How well do the data used in the regression model meet the statistical assumptions of regression?"
      ],
      "metadata": {
        "id": "zkaZA9U19Ubq"
      }
    },
    {
      "cell_type": "code",
      "source": [
        "%%R\n",
        "res<-resid(mod) #model residuals\n",
        "plot(fitted(mod), res,\n",
        "     xlab=\"Predicted Swainson's Thrush Song Rate\",\n",
        "     ylab=\"Residuals from Model (Predicted - Actual Song Rate)\",\n",
        "     col=\"darkred\") #predicted values on the x-axis, followed by residuals on the y-axis.\n",
        "abline(0,0)"
      ],
      "metadata": {
        "colab": {
          "base_uri": "https://localhost:8080/",
          "height": 497
        },
        "id": "fCnq76Li9kPF",
        "outputId": "4dbf19ee-f4f3-4639-8f5d-4b19bb114ceb"
      },
      "execution_count": null,
      "outputs": [
        {
          "output_type": "display_data",
          "data": {
            "image/png": "[encoded data removed]"
          },
          "metadata": {}
        }
      ]
    },
    {
      "cell_type": "markdown",
      "source": [
        "There is a lot of variance heterogeneity (bad!) since the residuals vary a lot more as the size of predicted values of song activity increase.\n",
        "\n",
        "We can also look at a Q-Q (quantile-quantile) plot to assess how well the model's errors are normally distributed."
      ],
      "metadata": {
        "id": "w2rFXqa99xbQ"
      }
    },
    {
      "cell_type": "code",
      "source": [
        "%%R\n",
        "qqnorm(res)#create a Q-Q plot for the residuals\n",
        "qqline(res)#add a straight diagonal line to the plot"
      ],
      "metadata": {
        "colab": {
          "base_uri": "https://localhost:8080/",
          "height": 497
        },
        "id": "sORJst7P-kYq",
        "outputId": "5561b7a1-392e-4036-da76-d05c1e198092"
      },
      "execution_count": null,
      "outputs": [
        {
          "output_type": "display_data",
          "data": {
            "image/png": "[encoded data removed]"
          },
          "metadata": {}
        }
      ]
    },
    {
      "cell_type": "markdown",
      "source": [
        "The model's residuals are not at all normally distributed. Larger predicted values’ residuals deviate from the Q-Q line (bad!).\n",
        "\n",
        "On top of that, we know that there are multiple observations per site and those will be correlated with other observations from the same site.\n",
        "\n",
        "We can try transforming the response variable to see if it improves the regression results, although data independence will still be an issue. There are four sites, with many repeated measurements over time at each site. Observations from the same site are expected to be more correlated with each other than with observations from other sites.\n",
        "\n",
        "Here the dependent variable is square-root-transformed."
      ],
      "metadata": {
        "id": "TL_ROei4-rKm"
      }
    },
    {
      "cell_type": "code",
      "source": [
        "%%R\n",
        "songs_per_recording$SWTH.sq<-sqrt(songs_per_recording$SWTH)\n",
        "\n",
        "mod2<-lm(SWTH.sq~JDAY+JDAY2, data=songs_per_recording)\n",
        "print(summary(mod2))\n",
        "\n",
        "res2<-resid(mod2)\n",
        "plot(fitted(mod2), res2)\n",
        "abline(0,0)\n",
        "\n",
        "qqnorm(res2)\n",
        "qqline(res2)"
      ],
      "metadata": {
        "colab": {
          "base_uri": "https://localhost:8080/",
          "height": 1000
        },
        "id": "UN4TH5bU_IEO",
        "outputId": "79a06b4c-3ed1-468d-87fb-5c066f89a695"
      },
      "execution_count": null,
      "outputs": [
        {
          "output_type": "stream",
          "name": "stdout",
          "text": [
            "\n",
            "Call:\n",
            "lm(formula = SWTH.sq ~ JDAY + JDAY2, data = songs_per_recording)\n",
            "\n",
            "Residuals:\n",
            "    Min      1Q  Median      3Q     Max \n",
            "-0.9087 -0.7900 -0.5269  0.0764  6.3162 \n",
            "\n",
            "Coefficients:\n",
            "            Estimate Std. Error t value Pr(>|t|)    \n",
            "(Intercept)  0.90254    0.04820  18.724   <2e-16 ***\n",
            "JDAY         0.08859    0.03626   2.444   0.0147 *  \n",
            "JDAY2       -0.31477    0.03297  -9.546   <2e-16 ***\n",
            "---\n",
            "Signif. codes:  0 ‘***’ 0.001 ‘**’ 0.01 ‘*’ 0.05 ‘.’ 0.1 ‘ ’ 1\n",
            "\n",
            "Residual standard error: 1.219 on 1198 degrees of freedom\n",
            "Multiple R-squared:  0.07071,\tAdjusted R-squared:  0.06915 \n",
            "F-statistic: 45.58 on 2 and 1198 DF,  p-value: < 2.2e-16\n",
            "\n"
          ]
        },
        {
          "output_type": "display_data",
          "data": {
            "image/png": "[encoded data removed]"
          },
          "metadata": {}
        },
        {
          "output_type": "display_data",
          "data": {
            "image/png": "[encoded data removed]"
          },
          "metadata": {}
        }
      ]
    },
    {
      "cell_type": "markdown",
      "source": [
        "There is just a slight improvement in model fit according to the test statistics, but the residuals are still very heteroskedastic and non-normal. We could try log-transforming song rate as well. Note that a small positive number is added in case the observed song rate in a recording is zero."
      ],
      "metadata": {
        "id": "tn9Ztupk_fYA"
      }
    },
    {
      "cell_type": "code",
      "source": [
        "%%R\n",
        "songs_per_recording$SWTH.log<-log(songs_per_recording$SWTH+0.1)\n",
        "\n",
        "mod3<-lm(SWTH.log~JDAY+JDAY2, data=songs_per_recording)\n",
        "print(summary(mod3))\n",
        "\n",
        "res3<-resid(mod3)\n",
        "plot(fitted(mod3), res3)\n",
        "abline(0,0)\n",
        "\n",
        "qqnorm(res3)\n",
        "qqline(res3)"
      ],
      "metadata": {
        "colab": {
          "base_uri": "https://localhost:8080/",
          "height": 1000
        },
        "id": "q5TZ816m_0XV",
        "outputId": "f4d4443a-9eec-45f6-f99d-43c18589999e"
      },
      "execution_count": null,
      "outputs": [
        {
          "output_type": "stream",
          "name": "stdout",
          "text": [
            "\n",
            "Call:\n",
            "lm(formula = SWTH.log ~ JDAY + JDAY2, data = songs_per_recording)\n",
            "\n",
            "Residuals:\n",
            "    Min      1Q  Median      3Q     Max \n",
            "-1.3438 -1.1723 -0.7830  0.0893  5.2765 \n",
            "\n",
            "Coefficients:\n",
            "            Estimate Std. Error t value Pr(>|t|)    \n",
            "(Intercept) -0.96732    0.06702 -14.433   <2e-16 ***\n",
            "JDAY         0.12640    0.05041   2.507   0.0123 *  \n",
            "JDAY2       -0.45965    0.04585 -10.025   <2e-16 ***\n",
            "---\n",
            "Signif. codes:  0 ‘***’ 0.001 ‘**’ 0.01 ‘*’ 0.05 ‘.’ 0.1 ‘ ’ 1\n",
            "\n",
            "Residual standard error: 1.695 on 1198 degrees of freedom\n",
            "Multiple R-squared:  0.07741,\tAdjusted R-squared:  0.07587 \n",
            "F-statistic: 50.26 on 2 and 1198 DF,  p-value: < 2.2e-16\n",
            "\n"
          ]
        },
        {
          "output_type": "display_data",
          "data": {
            "image/png": "[encoded data removed]"
          },
          "metadata": {}
        },
        {
          "output_type": "display_data",
          "data": {
            "image/png": "[encoded data removed]"
          },
          "metadata": {}
        }
      ]
    },
    {
      "cell_type": "markdown",
      "source": [
        "Still little improvement. It may help to include time of day/night of a recording in the regression model, as that variable was an important one during data exploration, but song rate will probably need to be modelled as a more complex non-linear function of time of day/night. Perhaps a bimodel or circular function, which we'll learn more about when running generalized additive models.\n",
        "\n",
        "You can see more examples of diagnostic plots for regressions in [Data&distributions.ipynb](https://docs.google.com/file/d/1apACLM5lb3-BQIRu8htg9iTLBSyFLT_Q/edit?ts=651accb9)."
      ],
      "metadata": {
        "id": "r2gK_FxSANhE"
      }
    },
    {
      "cell_type": "markdown",
      "source": [
        "##Learning Outcome: How sharing code and writing reports in Google Colab notebooks enhances reproducibility of research.\n",
        "\n",
        "Google Colab notebooks enable us to share well-documented code with other users interested in replicating or modifying our analyses. Sharing well-documented code enhances transparency, reproducibility of analysis, and trust in science. However, Google Colab notebooks go further by combining the code and software for analysis with automatic incorporation of analysis results into a report document. With notebooks, you don't need to repeatedly copy and paste analysis results into an external report document in a separate program (e.g., Microsoft Word), every time you tweak the code for analysis or rerun the analysis on additional data.\n",
        "\n",
        "We will be learning about storing and sharing input, code, and output created outside of Google Colab in RStudio, in [a later lesson](https://colab.research.google.com/drive/1Ir_boBcXYrkZFX7dUWf-q-VHY_UO3dx2). In that lesson, we'll explore the use of R projects for organizing your inputs, code, and outputs in a logical way. You can then use either R scripts or RMarkdown documents (similar to Google Colab notebooks)to code your analyses. R projects and RMarkdown documents are still often used to share code among researchers.\n",
        "\n",
        "The main advantage of Google Colab (and Jupyter) notebooks over RMarkdown documents is that you can run R and Python code in the same notebook and make the results from one analysis program easily available to other programs.\n",
        "\n",
        "One potential disadvantage of Google Colab is that you need to be online to run analyses, and long-running analyses Google Colab may time out. In contrast, R projects and RMarkdown can usually be run offline, unless you need to be online to install packages or access data.\n",
        "\n",
        "##Learning Outcome: Save Data Outside of Google Colab.\n",
        "\n",
        "Last of all, ***save your data outside of Google Colab***! Once your Colab notebook is closed and your session ends, any output you've produced will be erased inside Colab. You can right-click individual files manually and download them to your laptop.\n",
        "\n",
        "Or you can save individual or multiple R objects (data frames, constants, model objects, plots, tables, maps, GIS data like simple features objects and rasters) to a single RData file, then drag and drop that file to a folder in Google Drive, if Google Drive has already been mounted to Colab. *Make sure you write files to a drive folder where you can control sharing and other people's access*!"
      ],
      "metadata": {
        "id": "XvQYwKPO_X4_"
      }
    },
    {
      "cell_type": "code",
      "source": [
        "%%R\n",
        "ls()"
      ],
      "metadata": {
        "colab": {
          "base_uri": "https://localhost:8080/"
        },
        "id": "e-aLQqfLC8qN",
        "outputId": "42d706d2-e666-46c7-fa41-0ae7ff84626e"
      },
      "execution_count": null,
      "outputs": [
        {
          "output_type": "stream",
          "name": "stdout",
          "text": [
            " [1] \"a\"                          \"a2\"                        \n",
            " [3] \"detectionMean\"              \"EarlyDetections_Basic\"     \n",
            " [5] \"EarlyDetections_Basic2\"     \"EarlyDetections_Tidy\"      \n",
            " [7] \"FirstBirdDetections_Basic\"  \"FirstBirdDetections_Basic2\"\n",
            " [9] \"FirstBirdDetections_Tidy\"   \"indivs_per_recording\"      \n",
            "[11] \"meanJDAY\"                   \"mod\"                       \n",
            "[13] \"mod2\"                       \"mod3\"                      \n",
            "[15] \"NoMissingValues_Basic\"      \"NoMissingValues_Tidy\"      \n",
            "[17] \"numNA\"                      \"numNA1\"                    \n",
            "[19] \"numNA2\"                     \"numNA3\"                    \n",
            "[21] \"numNA4\"                     \"numNA5\"                    \n",
            "[23] \"numNA6\"                     \"objectNameHere\"            \n",
            "[25] \"Ord1\"                       \"preds\"                     \n",
            "[27] \"res\"                        \"res2\"                      \n",
            "[29] \"res3\"                       \"sdJDAY\"                    \n",
            "[31] \"songs_per_recording\"        \"songs_per_recording.P\"     \n",
            "[33] \"swth\"                       \"swth_summ\"                 \n",
            "[35] \"swth_summ2\"                 \"swth2\"                     \n",
            "[37] \"swthBasic\"                  \"swthBigGrids\"              \n",
            "[39] \"swthBigGridsBasic\"          \"swthBigGridsBasic2\"        \n",
            "[41] \"swthBigGridsBasicOtherWay\"  \"swthBigGridsTidy\"          \n",
            "[43] \"swthDetectionTime\"          \"swthFewerVar\"              \n",
            "[45] \"swthFewerVar2\"              \"swthFewerVar3\"             \n",
            "[47] \"swthFewerVar4\"              \"swthTidy\"                  \n",
            "[49] \"swthTrans_basic\"            \"swthTrans_tidy\"            \n",
            "[51] \"swthTrans_tidyNA\"           \"tapply.spp\"                \n"
          ]
        }
      ]
    },
    {
      "cell_type": "markdown",
      "source": [
        "You can save multiple objects within a single RData file as follows, then manually download that one RData file or drag and drop it to a personal Google Drive folder."
      ],
      "metadata": {
        "id": "oKpT6PVgDHJO"
      }
    },
    {
      "cell_type": "code",
      "source": [
        "%%R\n",
        "save(swth, swth_summ, songs_per_recording, indivs_per_recording, mod, mod2, mod3, file=\"Swainsons-Thrush-raw-processed-data.RData\")\n",
        "#manually download this file or drag and drop it in Google Drive"
      ],
      "metadata": {
        "id": "U2jXqAe1DXcZ"
      },
      "execution_count": null,
      "outputs": []
    }
  ]
}